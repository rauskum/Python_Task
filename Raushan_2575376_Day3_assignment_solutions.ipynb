{
 "cells": [
  {
   "cell_type": "markdown",
   "id": "5f0cb9cf",
   "metadata": {},
   "source": [
    "# File handling"
   ]
  },
  {
   "cell_type": "markdown",
   "id": "346a0960",
   "metadata": {},
   "source": [
    "# 1Write a python function that copies a file reading and writing up to 50 characters at a time."
   ]
  },
  {
   "cell_type": "code",
   "execution_count": 2,
   "id": "a7093c7c",
   "metadata": {},
   "outputs": [],
   "source": [
    "def copy_file(source_file, destination_file):\n",
    "    with open(source_file, 'r') as source:\n",
    "        with open(destination_file, 'w') as destination:\n",
    "            while True:\n",
    "                data = source.read(50)\n",
    "                if not data:\n",
    "                    break\n",
    "                destination.write(data)\n",
    "                source_file.close()\n",
    "                destination_file.close()"
   ]
  },
  {
   "cell_type": "code",
   "execution_count": 3,
   "id": "bdfcae59",
   "metadata": {},
   "outputs": [
    {
     "name": "stdout",
     "output_type": "stream",
     "text": [
      "Welcome! Are you completely new to programming? If not then we presume you will be looking for information about why and how to get started with Python. Fortunately an experienced programmer in any programming language (whatever it may be) can pick up Python very quickly. It's also easy for beginners to use and learn, so jump in!\n"
     ]
    }
   ],
   "source": [
    "with open('destination.txt', 'r') as destination_file:\n",
    "   \n",
    "    line = destination_file.readline()          \n",
    "    while line:\n",
    "        print(line)\n",
    "        line = destination_file.readline()"
   ]
  },
  {
   "cell_type": "markdown",
   "id": "55d3412c",
   "metadata": {},
   "source": []
  },
  {
   "cell_type": "code",
   "execution_count": null,
   "id": "51897198",
   "metadata": {},
   "outputs": [],
   "source": []
  },
  {
   "cell_type": "markdown",
   "id": "16d45f7a",
   "metadata": {},
   "source": [
    "# 2 Print all numbers present in the text file and print the number of blank spaces in that file."
   ]
  },
  {
   "cell_type": "code",
   "execution_count": 16,
   "id": "cb692616",
   "metadata": {},
   "outputs": [
    {
     "name": "stdout",
     "output_type": "stream",
     "text": [
      "56\n"
     ]
    }
   ],
   "source": [
    "file = open(\"source.txt\", \"r\")\n",
    "  \n",
    "count = 0\n",
    "while True:\n",
    "    \n",
    "   \n",
    "    char = file.read(1)\n",
    "      \n",
    "    if char.isspace():\n",
    "        count += 1\n",
    "    if not char:\n",
    "        break\n",
    "  \n",
    "print(count)"
   ]
  },
  {
   "cell_type": "markdown",
   "id": "640d039c",
   "metadata": {},
   "source": [
    "# 3Write a function called sed that takes as arguments a pattern string, a replacement string, and two filenames; it should read the first file and write the contents into the second file (creating it if necessary). if the pattern string appears anywhere in the file, it should be replaced with the replacement string. if an error occurs while opening, reading, writing, or closing files, your program should catch the expection, print and error message, and exit."
   ]
  },
  {
   "cell_type": "code",
   "execution_count": 4,
   "id": "1d1d2370",
   "metadata": {},
   "outputs": [],
   "source": [
    "def sed(pattern, replacement, input_file, output_file):\n",
    "    try:\n",
    "        with open(input_file, 'r') as infile, open(output_file, 'w') as outfile:\n",
    "            for line in infile:\n",
    "                # Replace the pattern with the replacement string in the line\n",
    "                modified_line = line.replace('Python', 'Py')\n",
    "                outfile.write(modified_line)\n",
    "    \n",
    "    except FileNotFoundError:\n",
    "        print(f\"Error: File not found - {input_file} or {output_file}\")\n",
    "    except Exception as e:\n",
    "        print(f\"An error occurred: {str(e)}\")\n",
    "\n",
    "pattern = 'Python'  \n",
    "replacement = 'Py'  \n",
    "input_file = 'Source.txt'  \n",
    "output_file = 'Destination.txt' \n",
    "\n",
    "\n",
    "sed(pattern, replacement, input_file, output_file)"
   ]
  },
  {
   "cell_type": "code",
   "execution_count": 1,
   "id": "180a93e2",
   "metadata": {},
   "outputs": [
    {
     "name": "stdout",
     "output_type": "stream",
     "text": [
      "Welcome! Are you completely new to programming? If not then we presume you will be looking for information about why and how to get started with Py. Fortunately an experienced programmer in any programming language (whatever it may be) can pick up Py very quickly. It's also easy for beginners to use and learn, so jump in!\n"
     ]
    }
   ],
   "source": [
    "with open('Destination.txt', 'r') as destination_file:\n",
    "   \n",
    "    line = destination_file.readline()          # Read a single line from the file\n",
    "    while line:\n",
    "        print(line)\n",
    "        line = destination_file.readline()"
   ]
  },
  {
   "cell_type": "markdown",
   "id": "914c3afc",
   "metadata": {},
   "source": [
    "# 4Log file analysis : you have a log file containing records of user activities on a website each line in the file represent a log entry with details like timestamps, user id, and action performed. your task is to analyse this log file. \n",
    "A. Write python code to read the log file and extract specify information search as the number of unique user or the most common action. \n",
    "B. how would you handle large log files efficiently without loading the entire file into memory?"
   ]
  },
  {
   "cell_type": "code",
   "execution_count": 6,
   "id": "4aa71405",
   "metadata": {},
   "outputs": [
    {
     "ename": "SyntaxError",
     "evalue": "invalid syntax (1260842907.py, line 7)",
     "output_type": "error",
     "traceback": [
      "\u001b[1;36m  Cell \u001b[1;32mIn[6], line 7\u001b[1;36m\u001b[0m\n\u001b[1;33m    with open(log_file_path, 'r') as log file:\u001b[0m\n\u001b[1;37m                                         ^\u001b[0m\n\u001b[1;31mSyntaxError\u001b[0m\u001b[1;31m:\u001b[0m invalid syntax\n"
     ]
    }
   ],
   "source": [
    "# Function to parse a log file and extract relevant information\n",
    "\n",
    "def parse_log_file(log_file_path):\n",
    "    log_entries_by_date = {}\n",
    "\n",
    "    \n",
    "    with open(log_file_path, 'r') as log file:\n",
    "    for line in log file:\n",
    "        #Split each line into timestamp and message \n",
    "        parts = line.strip().split(' ',1)\n",
    "        if len(parts) == 2:\n",
    "\n",
    "            timestamp, message = parts\n",
    "\n",
    "            date= timestamp[:10] # Extract the date portion\n",
    "\n",
    "            if date in log_entries_by_date: \n",
    "                log_entries_by_date[date].append(message)\n",
    "            else:\n",
    "\n",
    "                log_entries_by_date[date] [message]\n",
    "\n",
    "\n",
    "    return log entries_by_date\n",
    "\n",
    "def analyze_log_data(log_entries_by_date):\n",
    "\n",
    "     for date, entries in log_entries_by_date.items():\n",
    "            print(f\"Date: {date}\")\n",
    "            print(f\"total entries : {len(entries)}\")\n",
    "            print(\"sample entries\")\n",
    "            for i, entry in enumerate(entries[:5], start=1):\n",
    "                  print(f\"{i}. {entry}\")\n",
    "\n",
    "            print(\"-------\")\n",
    "I"
   ]
  },
  {
   "cell_type": "code",
   "execution_count": null,
   "id": "041933e5",
   "metadata": {},
   "outputs": [],
   "source": [
    "if name == \"_main_\":\n",
    "    log_file_path = 'logfile.txt'\n",
    "    log_entries_by_date = parse_log_file(log_file_path)\n",
    "    analyze_log_data(log_entries_by_date)"
   ]
  },
  {
   "cell_type": "markdown",
   "id": "365fa95b",
   "metadata": {},
   "source": [
    "# 5 Text file search and replace : you have a text file with a large amount of text and you want to search for specific words or phrases and replace them with new content.\n",
    "A. Write python code to search for and replace text within a text file.\n",
    "B. How would you handle case where you need to perform multiple replacements in a single pass?"
   ]
  },
  {
   "cell_type": "code",
   "execution_count": 10,
   "id": "e452d19c",
   "metadata": {},
   "outputs": [
    {
     "ename": "SyntaxError",
     "evalue": "invalid non-printable character U+00A0 (588059020.py, line 26)",
     "output_type": "error",
     "traceback": [
      "\u001b[1;36m  Cell \u001b[1;32mIn[10], line 26\u001b[1;36m\u001b[0m\n\u001b[1;33m    search_replace(file_path, search_text, replace_text)\u001b[0m\n\u001b[1;37m                                          ^\u001b[0m\n\u001b[1;31mSyntaxError\u001b[0m\u001b[1;31m:\u001b[0m invalid non-printable character U+00A0\n"
     ]
    }
   ],
   "source": [
    "def search_replace(file_path, search_text, replace_text):\n",
    "    try:\n",
    "      \n",
    "        with open(source.txt, 'r') as file:        # Open the file for reading\n",
    "            file_content = file.read()\n",
    "\n",
    "      \n",
    "        updated_content = file_content.replace(search_text, replace_text)        # Perform the search and replace\n",
    "\n",
    "    \n",
    "        with open(source.txt, 'w') as file:\n",
    "            file.write(updated_content)\n",
    "\n",
    "        print(f\"Search and replace completed in '{source.txt}'.\")\n",
    "\n",
    "    except FileNotFoundError:\n",
    "        print(f\"Error: File '{file_path}' not found.\")\n",
    "    except Exception as e:\n",
    "        print(f\"An error occurred: {e}\")\n",
    "\n",
    "\n",
    "file_path = 'source.txt'  \n",
    "search_text = 'Python'\n",
    "replace_text = 'Py'\n",
    "\n",
    "search_replace(file_path, search_text, replace_text)"
   ]
  },
  {
   "cell_type": "markdown",
   "id": "b47311d3",
   "metadata": {},
   "source": [
    "# 6 Write a python script that concatenates the contents of multiple text files into a single output file. allow the user to specify the input file and the output file."
   ]
  },
  {
   "cell_type": "code",
   "execution_count": 13,
   "id": "fe8c8098",
   "metadata": {},
   "outputs": [],
   "source": [
    "file1 = open('text1.txt', 'r')\n",
    "file2 = open('text2.txt', 'r')\n",
    "\n",
    "# Read the contents of the text files\n",
    "content1 = file1.read()\n",
    "content2 = file2.read()\n",
    "\n",
    "# Close the source text files\n",
    "file1.close()\n",
    "file2.close()\n",
    "\n",
    "# Open the destination file\n",
    "destination_file = open('concatenated.txt', 'w')\n",
    "\n",
    "# Write the concatenated content to the destination file\n",
    "destination_file.write(content1 + content2)\n",
    "# Close the destination file\n",
    "destination_file.close()"
   ]
  },
  {
   "cell_type": "code",
   "execution_count": 14,
   "id": "eb41761c",
   "metadata": {},
   "outputs": [
    {
     "name": "stdout",
     "output_type": "stream",
     "text": [
      "RaushanKumar\n"
     ]
    }
   ],
   "source": [
    "with open('concatenated.txt', 'r') as destination_file:\n",
    "   \n",
    "    line = destination_file.readline()          # Read a single line from the file\n",
    "    while line:\n",
    "        print(line)\n",
    "        line = destination_file.readline()"
   ]
  },
  {
   "cell_type": "markdown",
   "id": "b1a50345",
   "metadata": {},
   "source": [
    "# 7You are given a text file named input.txt containing a list of words, one word per line. Your task is to create a Python program that reads the contents of input.txt, processes the words, and writes the result to an output file named output.txt. a. The program should perform the following operations: \n",
    "i. Read the words from input.txt. \n",
    "ii. For each word in the input file, calculate the length of the word and store it in a dictionary where the word is the key, and the length is the value. \n",
    "iii. Write the word-length dictionary to output.txt in the following format:\n",
    "iv.  Close both input and output files properly. \n",
    "v. Write Python code to accomplish this task. Ensure proper error handling for file operations."
   ]
  },
  {
   "cell_type": "code",
   "execution_count": 15,
   "id": "dda6dc91",
   "metadata": {},
   "outputs": [
    {
     "name": "stdout",
     "output_type": "stream",
     "text": [
      "Word lengths successfully written to 'output.txt'\n"
     ]
    }
   ],
   "source": [
    "try:\n",
    "    # Open the input and output files\n",
    "    with open('input.txt', 'r') as input_file, open('output.txt', 'w') as output_file:\n",
    "        word_lengths = {}  # Dictionary to store word lengths\n",
    "\n",
    "        # Read and process each word from the input file\n",
    "        for line in input_file:\n",
    "            word = line.strip()  # Remove leading/trailing whitespace\n",
    "            length = len(word)  # Calculate word length\n",
    "            word_lengths[word] = length  # Store in the dictionary\n",
    "\n",
    "        # Write the word length dictionary to the output file\n",
    "        for word, length in word_lengths.items():\n",
    "            output_file.write(f\"{word}: {length}\\n\")\n",
    "\n",
    "    print(\"Word lengths successfully written to 'output.txt'\")\n",
    "\n",
    "except FileNotFoundError:\n",
    "    print(\"Error: Input file 'input.txt' not found.\")\n",
    "except PermissionError:\n",
    "    print(\"Error: Permission denied while accessing files.\")\n",
    "except Exception as e:\n",
    "    print(f\"An error occurred: {e}\")"
   ]
  },
  {
   "cell_type": "code",
   "execution_count": 16,
   "id": "e9250914",
   "metadata": {},
   "outputs": [
    {
     "name": "stdout",
     "output_type": "stream",
     "text": [
      "apple: 5\n",
      "\n",
      "banana: 6\n",
      "\n",
      "cherry: 6\n",
      "\n"
     ]
    }
   ],
   "source": [
    "with open('output.txt', 'r') as destination_file:\n",
    "   \n",
    "    line = destination_file.readline()          # Read a single line from the file\n",
    "    while line:\n",
    "        print(line)\n",
    "        line = destination_file.readline()"
   ]
  },
  {
   "cell_type": "markdown",
   "id": "0243d7e0",
   "metadata": {},
   "source": [
    "# 88. Assume that you are developing a student gradebook system for a school. The system should allow teachers to input student grades for various subjects, store the data in files, and provide students with the ability to view their grades.\n",
    "\n",
    "Design a Python program that accomplishes the following tasks:\n",
    "\n",
    "i. Teachers should be able to input grades for students in different subjects. ii. Store the student grade data in separate text files for each subject.\n",
    "\n",
    "iii. Students should be able to view their grades for each subject.\n",
    "\n",
    "iv. Implement error handling for file operations, such as file not found or permissions issues. "
   ]
  },
  {
   "cell_type": "code",
   "execution_count": 18,
   "id": "f0c3b12f",
   "metadata": {},
   "outputs": [
    {
     "ename": "NameError",
     "evalue": "name '_name_' is not defined",
     "output_type": "error",
     "traceback": [
      "\u001b[1;31m---------------------------------------------------------------------------\u001b[0m",
      "\u001b[1;31mNameError\u001b[0m                                 Traceback (most recent call last)",
      "Cell \u001b[1;32mIn[18], line 39\u001b[0m\n\u001b[0;32m     36\u001b[0m     \u001b[38;5;28;01mexcept\u001b[39;00m \u001b[38;5;167;01mException\u001b[39;00m \u001b[38;5;28;01mas\u001b[39;00m e:\n\u001b[0;32m     37\u001b[0m         \u001b[38;5;28mprint\u001b[39m(\u001b[38;5;124mf\u001b[39m\u001b[38;5;124m\"\u001b[39m\u001b[38;5;124mAn error occurred while viewing grades: \u001b[39m\u001b[38;5;132;01m{\u001b[39;00me\u001b[38;5;132;01m}\u001b[39;00m\u001b[38;5;124m\"\u001b[39m)\n\u001b[1;32m---> 39\u001b[0m \u001b[38;5;28;01mif\u001b[39;00m _name_ \u001b[38;5;241m==\u001b[39m \u001b[38;5;124m\"\u001b[39m\u001b[38;5;124m__main__\u001b[39m\u001b[38;5;124m\"\u001b[39m:\n\u001b[0;32m     40\u001b[0m     \u001b[38;5;28;01mwhile\u001b[39;00m \u001b[38;5;28;01mTrue\u001b[39;00m:\n\u001b[0;32m     41\u001b[0m         \u001b[38;5;28mprint\u001b[39m(\u001b[38;5;124m\"\u001b[39m\u001b[38;5;130;01m\\n\u001b[39;00m\u001b[38;5;124mStudent Gradebook System\u001b[39m\u001b[38;5;124m\"\u001b[39m)\n",
      "\u001b[1;31mNameError\u001b[0m: name '_name_' is not defined"
     ]
    }
   ],
   "source": [
    "import os\n",
    "\n",
    "# Function to input and store student grades\n",
    "def input_grades(subject, student_name, grade):\n",
    "    try:\n",
    "        # Create a folder for each subject if it doesn't exist\n",
    "        if not os.path.exists(subject):\n",
    "            os.makedirs(subject)\n",
    "\n",
    "        # Create or open a text file for the subject\n",
    "        file_path = os.path.join(subject, f\"{student_name}.txt\")\n",
    "        \n",
    "        with open(file_path, 'w') as file:\n",
    "            file.write(f\"Subject: {subject}\\n\")\n",
    "            file.write(f\"Student: {student_name}\\n\")\n",
    "            file.write(f\"Grade: {grade}\\n\")\n",
    "        \n",
    "        print(f\"Grade for {subject} of {student_name} has been saved successfully!\")\n",
    "\n",
    "    except Exception as e:\n",
    "        print(f\"An error occurred while saving grades: {e}\")\n",
    "\n",
    "# Function for students to view their grades\n",
    "def view_grades(subject, student_name):\n",
    "    try:\n",
    "        file_path = os.path.join(subject, f\"{student_name}.txt\")\n",
    "\n",
    "        # Check if the file exists\n",
    "        if os.path.exists(file_path):\n",
    "            with open(file_path, 'r') as file:\n",
    "                grades_data = file.read()\n",
    "            print(grades_data)\n",
    "        else:\n",
    "            print(f\"No grades found for {subject} of {student_name}\")\n",
    "\n",
    "    except Exception as e:\n",
    "        print(f\"An error occurred while viewing grades: {e}\")\n",
    "\n",
    "if _name_ == \"__main__\":\n",
    "    while True:\n",
    "        print(\"\\nStudent Gradebook System\")\n",
    "        print(\"1. Input grades for a subject\")\n",
    "        print(\"2. View grades for a subject\")\n",
    "        print(\"3. Exit\")\n",
    "        choice = input(\"Select an option (1/2/3): \")\n",
    "\n",
    "        if choice == \"1\":\n",
    "            subject = input(\"Enter the subject name: \")\n",
    "            student_name = input(\"Enter the student's name: \")\n",
    "            grade = input(\"Enter the student's grade: \")\n",
    "            input_grades(subject, student_name, grade)\n",
    "        elif choice == \"2\":\n",
    "            subject = input(\"Enter the subject name: \")\n",
    "            student_name = input(\"Enter the student's name: \")\n",
    "            view_grades(subject, student_name)\n",
    "        elif choice == \"3\":\n",
    "            break\n",
    "        else:\n",
    "            print(\"Invalid choice. Please select a valid option.\")"
   ]
  },
  {
   "cell_type": "code",
   "execution_count": null,
   "id": "1e72d585",
   "metadata": {},
   "outputs": [],
   "source": []
  }
 ],
 "metadata": {
  "kernelspec": {
   "display_name": "Python 3 (ipykernel)",
   "language": "python",
   "name": "python3"
  },
  "language_info": {
   "codemirror_mode": {
    "name": "ipython",
    "version": 3
   },
   "file_extension": ".py",
   "mimetype": "text/x-python",
   "name": "python",
   "nbconvert_exporter": "python",
   "pygments_lexer": "ipython3",
   "version": "3.11.4"
  }
 },
 "nbformat": 4,
 "nbformat_minor": 5
}
