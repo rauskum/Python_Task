{
 "cells": [
  {
   "cell_type": "markdown",
   "id": "2d2f450b",
   "metadata": {},
   "source": [
    "# 1 Write a python program with exception handling to input the marks for five subjects physics,chemistry, biology ,mathematics ,and computer. calculate the percentage and grade according to the following:\n",
    "1) Percentage >= 90% Grade A\n",
    "2) Percentage >= 80% Grade B \n",
    "3) Percentage >= 70% Grade  C\n",
    "4) Percentage >= 60% Grade  D\n",
    "5) Percentage >= 40% Grade  E\n",
    "6) Percentage <40% Grade     F\n",
    "  is 70% column grade C percentage 48 percentage 40 great day if"
   ]
  },
  {
   "cell_type": "code",
   "execution_count": 5,
   "id": "b8dcbc51",
   "metadata": {},
   "outputs": [
    {
     "name": "stdout",
     "output_type": "stream",
     "text": [
      "Enter Physics marks: 80\n",
      "Enter Chemistry marks: 70\n",
      "Enter Biology marks: 60\n",
      "Enter Mathematics marks: 80\n",
      "Enter Computer marks: 75\n",
      "Percentage: 73.00%\n",
      "Grade: C\n"
     ]
    }
   ],
   "source": [
    "try:\n",
    "# Input marks for five subjects\n",
    "    physics = float(input(\"Enter Physics marks: \"))\n",
    "    chemistry = float(input(\"Enter Chemistry marks: \"))\n",
    "    biology = float(input(\"Enter Biology marks: \"))\n",
    "    mathematics = float(input(\"Enter Mathematics marks: \"))\n",
    "    computer = float(input(\"Enter Computer marks: \"))\n",
    "\n",
    "    # Calculate the total marks\n",
    "    total_marks = physics + chemistry + biology + mathematics + computer\n",
    "\n",
    "    # Calculate the percentage\n",
    "    percentage = (total_marks / 500) * 100\n",
    "\n",
    "    # Determine the grade based on the percentage\n",
    "    if percentage >= 90:\n",
    "        grade = \"A\"\n",
    "    elif percentage >= 80:\n",
    "        grade = \"B\"\n",
    "    elif percentage >= 70:\n",
    "        grade = \"C\"\n",
    "    elif percentage >= 60:\n",
    "        grade = \"D\"\n",
    "    elif percentage >= 40:\n",
    "        grade = \"E\"\n",
    "    else:\n",
    "        grade = \"F\"\n",
    "\n",
    "    # Display the percentage and grade\n",
    "    print(f\"Percentage: {percentage:.2f}%\")\n",
    "    print(f\"Grade: {grade}\")\n",
    "\n",
    "except ValueError:\n",
    "    print(\"Invalid input. Please enter numeric values for marks.\")\n",
    "except KeyboardInterrupt:\n",
    "    print(\"Program interrupted.\")\n",
    "except Exception as e:\n",
    "    print(f\"An error occurred: {e}\")\n"
   ]
  },
  {
   "cell_type": "markdown",
   "id": "113d943d",
   "metadata": {},
   "source": [
    "# 2 Write a python program with exception handling to input electricity unit charges and calculate the total electricity bill according to the given condition\n",
    "1) For the first 50 units Rs. 0.50/unit\n",
    "2) For the next 100 units Rs. 0.70/unit\n",
    "3) For the next 100 units Rs. 1.20/unit\n",
    "4) For units above 250 Rs. 1.50/unit\n",
    "5) An additional surcharge of 20% is added to the bill."
   ]
  },
  {
   "cell_type": "code",
   "execution_count": null,
   "id": "d1d1bddb",
   "metadata": {},
   "outputs": [],
   "source": []
  },
  {
   "cell_type": "code",
   "execution_count": 4,
   "id": "33ef07e5",
   "metadata": {},
   "outputs": [
    {
     "name": "stdout",
     "output_type": "stream",
     "text": [
      "Enter electricity units consumed: 56\n",
      "Total electricity bill: Rs. 35.40\n"
     ]
    }
   ],
   "source": [
    "try:\n",
    "   \n",
    "    units = float(input(\"Enter electricity units consumed: \"))\n",
    "\n",
    "    bill = 0.0\n",
    "    surcharge = 0.0\n",
    "\n",
    "\n",
    "    if units <= 50:          #500 units consumed\n",
    "        bill = units * 0.50  #first 50 units * 0.50\n",
    "    elif units <= 150:\n",
    "        bill = (50 * 0.50) + ((units - 50) * 0.75)   #\n",
    "    elif units <= 250:\n",
    "        bill = (50 * 0.50) + (100 * 0.75) + ((units - 150) * 1.20)\n",
    "    else:\n",
    "        bill = (50 * 0.50) + (100 * 0.75) + (100 * 1.20) + ((units - 250) * 1.50)\n",
    "\n",
    "    \n",
    "    surcharge = 0.20 * bill    # Calculate the surcharge\n",
    "\n",
    "    \n",
    "    total_bill = bill + surcharge   # Calculate the total bill\n",
    "\n",
    "    \n",
    "    print(f\"Total electricity bill: Rs. {total_bill:.2f}\")   # Display the total bill\n",
    "\n",
    "except ValueError:\n",
    "    print(\"Invalid input. Please enter a numeric value for electricity units.\")"
   ]
  },
  {
   "cell_type": "code",
   "execution_count": null,
   "id": "cf7bee96",
   "metadata": {},
   "outputs": [],
   "source": []
  },
  {
   "cell_type": "markdown",
   "id": "6124a924",
   "metadata": {},
   "source": [
    "# 3 Write a python program with Exception handling to input the week number and print the weekday."
   ]
  },
  {
   "cell_type": "code",
   "execution_count": 2,
   "id": "4f827c58",
   "metadata": {},
   "outputs": [
    {
     "name": "stdout",
     "output_type": "stream",
     "text": [
      "Enter the week number (1-7): 7\n",
      "Weekday for week 7 is Sunday\n"
     ]
    }
   ],
   "source": [
    "try:\n",
    "# Input week number\n",
    "    week_number = int(input(\"Enter the week number (1-7): \"))\n",
    "\n",
    "    # Check if the input week number is valid\n",
    "    if week_number < 1 or week_number > 7:\n",
    "        raise ValueError(\"Week number must be between 1 and 7\")\n",
    "\n",
    "    # Define a list of weekdays\n",
    "    weekdays = [\"Monday\", \"Tuesday\", \"Wednesday\", \"Thursday\", \"Friday\", \"Saturday\", \"Sunday\"]\n",
    "\n",
    "    # Print the corresponding weekday\n",
    "    print(f\"Weekday for week {week_number} is {weekdays[week_number - 1]}\")\n",
    "\n",
    "except ValueError as ve:\n",
    "    print(f\"Invalid input: {ve}\")\n",
    "except KeyboardInterrupt:\n",
    "    print(\"Program interrupted.\")\n",
    "except Exception as e:\n",
    "    print(f\"An error occurred: {e}\")\n",
    "    "
   ]
  },
  {
   "cell_type": "markdown",
   "id": "29d07cd9",
   "metadata": {},
   "source": [
    "# 4Write a python program to implement word count using command line arguments.\n",
    "i) Create a text document “apple.txt” which contains text for wordcount.\n",
    "ii) Create a wordcount program which calls the “Apple.txt” document by opening the file.\n",
    "iii) If the word is present again in the “Apple.txt” the wordcount is incremented by I until all the words are counted in the document.\n",
    "iv) Close the file.\n",
    "v) Create a command.Py program which imports the wordcount.Py Program.\n",
    "vi) Count the number of words using command line arguments.\n",
    "vii) Print each ward and its count."
   ]
  },
  {
   "cell_type": "code",
   "execution_count": 1,
   "id": "f4b8ee75",
   "metadata": {},
   "outputs": [
    {
     "name": "stdout",
     "output_type": "stream",
     "text": [
      "File not found!\n"
     ]
    }
   ],
   "source": [
    "import sys\n",
    "\n",
    "def word_count(file_name):\n",
    "    word_count = {}\n",
    "    try:\n",
    "        with open(file_name, 'r') as file:\n",
    "            for line in file:\n",
    "                words = line.strip().split()\n",
    "                for word in words:\n",
    "                    word_count[word] = word_count.get(word, 0) + 1\n",
    "    except FileNotFoundError:\n",
    "        print(\"File not found!\")\n",
    "        return\n",
    "\n",
    "    return word_count\n",
    "\n",
    "if __name__ == \"__main__\":\n",
    "    if len(sys.argv) < 2:\n",
    "        print(\"Please provide the file name as a command line argument.\")\n",
    "    else:\n",
    "        file_name = sys.argv[1]\n",
    "        counts = word_count(file_name)\n",
    "        if counts:\n",
    "            for word, count in counts.items():\n",
    "                print(f\"{word}: {count}\")"
   ]
  },
  {
   "cell_type": "code",
   "execution_count": null,
   "id": "43c7e023",
   "metadata": {},
   "outputs": [],
   "source": [
    "import sys\n",
    "from wordcount import word_count\n",
    "\n",
    "if __name__ == \"__main__\":\n",
    "    if len(sys.argv) < 2:\n",
    "        print(\"Please provide the file name as a command line argument.\")\n",
    "    else:\n",
    "        file_name = sys.argv[1]\n",
    "        counts = word_count(file_name)\n",
    "        if counts:\n",
    "            for word, count in counts.items():\n",
    "                print(f\"{word}: {count}\")\n"
   ]
  },
  {
   "cell_type": "markdown",
   "id": "d634b0c8",
   "metadata": {},
   "source": [
    "# 5 Write a python program for finding the most frequent words in a text read from a file.\n",
    "1) Initially open the text file in read mode.\n",
    "2) Make all the letters in the document into lower case letters and split the words in each line.\n",
    "3) Get the words in an order.\n",
    "4) Sort the words for finding the most frequent words in the file.\n",
    "5) print the most frequent word in the file"
   ]
  },
  {
   "cell_type": "code",
   "execution_count": 1,
   "id": "4b55cbfa",
   "metadata": {},
   "outputs": [
    {
     "name": "stdout",
     "output_type": "stream",
     "text": [
      "Most frequent words:\n",
      "to: 3 times\n",
      "you: 2 times\n",
      "for: 2 times\n",
      "and: 2 times\n",
      "welcome!: 1 times\n",
      "are: 1 times\n",
      "completely: 1 times\n",
      "new: 1 times\n",
      "programming?: 1 times\n",
      "if: 1 times\n"
     ]
    }
   ],
   "source": [
    "from collections import Counter\n",
    "\n",
    "# Step 1: Open the text file in read mode\n",
    "try:\n",
    "    with open(\"Source.txt\", \"r\") as file:\n",
    "        text = file.read()\n",
    "except FileNotFoundError:\n",
    "    print(\"File not found.\")\n",
    "    exit(1)\n",
    "except Exception as e:\n",
    "    print(f\"An error occurred: {e}\")\n",
    "    exit(1)\n",
    "\n",
    "# Step 2: Convert all letters to lowercase and split the words\n",
    "words = text.lower().split()\n",
    "\n",
    "# Step 3: Count the frequency of each word\n",
    "word_count = Counter(words)\n",
    "\n",
    "# Step 4: Sort the words by frequency (most frequent first)\n",
    "sorted_word_count = sorted(word_count.items(), key=lambda x: x[1], reverse=True)\n",
    "\n",
    "# Step 5: Print the most frequent words\n",
    "print(\"Most frequent words:\")\n",
    "for word, count in sorted_word_count[:10]:  # Change 10 to the number of top words you want to display\n",
    "    print(f\"{word}: {count} times\")"
   ]
  },
  {
   "cell_type": "markdown",
   "id": "245092d3",
   "metadata": {},
   "source": [
    "# 6. File Processing with Command-Line Arguments- Scenario: You are developing a command-line utility that processes text files. Users can specify input and output file paths as command-line arguments. Your program should handle exceptions gracefully.\n",
    "\n",
    "i. Design a Python program that takes two command-line arguments: the input file path and the output file path. Ensure that the program checks if both arguments are provided and that the input file exists.\n",
    "\n",
    "ii. Implement error handling to deal with scenarios such as missing input files, invalid file paths, or permission issues when writing to the output file.\n",
    "\n",
    "iii. If an error occurs during file processing, display a user-friendly error message, and exit the program with a non-zero exit code.\n",
    "\n",
    "iv. Write test cases that cover various scenarios, including providing valid and invalid file paths as command-line arguments."
   ]
  },
  {
   "cell_type": "code",
   "execution_count": 9,
   "id": "7b735a1c",
   "metadata": {},
   "outputs": [
    {
     "ename": "IndentationError",
     "evalue": "unindent does not match any outer indentation level (<tokenize>, line 37)",
     "output_type": "error",
     "traceback": [
      "\u001b[1;36m  File \u001b[1;32m<tokenize>:37\u001b[1;36m\u001b[0m\n\u001b[1;33m    input_file_path = sys.argv[1]\u001b[0m\n\u001b[1;37m    ^\u001b[0m\n\u001b[1;31mIndentationError\u001b[0m\u001b[1;31m:\u001b[0m unindent does not match any outer indentation level\n"
     ]
    }
   ],
   "source": [
    " import sys\n",
    "\n",
    "def process_text_file(input_path, output_path):\n",
    "    try:\n",
    "       \n",
    "        if not input_path or not output_path:               \n",
    "            raise ValueError(\"Both input and output file paths must be provided\")\n",
    "\n",
    "        \n",
    "        with open(input_path, 'r') as input_file:   \n",
    "            \n",
    "            content = input_file.read()               \n",
    "\n",
    "\n",
    "       \n",
    "        with open(output_path, 'w') as output_file:           \n",
    "            \n",
    "            output_file.write(content) \n",
    "\n",
    "        print(\"File processing completed successfully!\")\n",
    "\n",
    "    except FileNotFoundError:\n",
    "        print(f\"Input file '{input_path}' not found.\")\n",
    "        sys.exit(1)\n",
    "    except PermissionError:\n",
    "        print(f\"Permission denied when writing to '{output_path}'.\")\n",
    "        sys.exit(1)\n",
    "    except Exception as e:\n",
    "        print(f\"An error occurred: {e}\")\n",
    "        sys.exit(1)\n",
    "\n",
    "if _name_ == \"__main__\":\n",
    "    \n",
    "    if len(sys.argv) != 3:\n",
    "        print(\"Usage: python program.py <input_file_path> <output_file_path>\")\n",
    "        sys.exit(1)\n",
    "   input_file_path = sys.argv[1]\n",
    "    output_file_path = sys.argv[2]\n",
    "\n",
    "    process_text_file(input_file_path, output_file_path)\n",
    "   "
   ]
  },
  {
   "cell_type": "code",
   "execution_count": 3,
   "id": "7d49fa4b",
   "metadata": {},
   "outputs": [],
   "source": []
  },
  {
   "cell_type": "code",
   "execution_count": null,
   "id": "85924656",
   "metadata": {},
   "outputs": [],
   "source": []
  }
 ],
 "metadata": {
  "kernelspec": {
   "display_name": "Python 3 (ipykernel)",
   "language": "python",
   "name": "python3"
  },
  "language_info": {
   "codemirror_mode": {
    "name": "ipython",
    "version": 3
   },
   "file_extension": ".py",
   "mimetype": "text/x-python",
   "name": "python",
   "nbconvert_exporter": "python",
   "pygments_lexer": "ipython3",
   "version": "3.11.4"
  }
 },
 "nbformat": 4,
 "nbformat_minor": 5
}
