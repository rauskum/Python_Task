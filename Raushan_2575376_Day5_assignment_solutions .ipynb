{
 "cells": [
  {
   "cell_type": "markdown",
   "id": "a85b95ea",
   "metadata": {},
   "source": [
    "# 1 Modules and Virtual Environments\n",
    "\n",
    "1. Module Import and Management\n",
    "\n",
    "Scenario: You are developing a complex Python project with multiple modules. To manage the project effectively, you need to import and use various modules. Additionally, you want to organize your code using namespaces and avoid naming conflicts.\n",
    "\n",
    "Design a Python program that demonstrates the following:\n",
    "\n",
    "1. Import multiple modules within your project.\n",
    "\n",
    "2. Use the import statement to access functions, classes, and variables from imported\n",
    "\n",
    "modules.\n",
    "\n",
    "3. Create your custom module and use it in your main program.\n",
    "\n",
    "4. Handle naming conflicts and ensure proper namespacing. 5. Implement error handling for missing modules or incorrect module usage.\n",
    "\n",
    "2. Virtual Environment Management Scenario: You are working on multiple Python projects with different dependencies and versions. To avoid conflicts and ensure project isolation, you decide to use virtual environments.\n",
    "\n",
    "Create a Python program that demonstrates the following:\n",
    "\n",
    "1. Create a virtual environment for a specific project.\n",
    "\n",
    "2. Activate and deactivate virtual environments.\n",
    "\n",
    "3. Install, upgrade, and uninstall packages within a virtual environment.\n",
    "\n",
    "4. List the installed packages in a virtual environment.\n",
    "\n",
    "5. Implement error handling for virtual environment operations.\n",
    "\n",
    "3. Module Dependency Resolution\n",
    "\n",
    "Scenario: You are developing a Python application that relies on third-party packages. Managing\n",
    "\n",
    "dependencies and ensuring compatibility is crucial for your project's success.\n",
    "\n",
    "Design a Python program that demonstrates the following:\n",
    "\n",
    "1. Use a requirements.txt file to specify project dependencies.\n",
    "\n",
    "2. Automatically install all project dependencies from the requirements.txt file.\n",
    "\n",
    "3. Ensure that the versions of installed packages are compatible. 4. Implement error handling for dependency resolution and installation."
   ]
  },
  {
   "cell_type": "code",
   "execution_count": null,
   "id": "a7fc852e",
   "metadata": {},
   "outputs": [],
   "source": [
    "import mysql.connector as sql"
   ]
  },
  {
   "cell_type": "code",
   "execution_count": null,
   "id": "42224a8d",
   "metadata": {},
   "outputs": [],
   "source": [
    "conn= sql.connect(host='127.0.0.1',\n",
    "                   user='root',\n",
    "                   password='Raus#199815@K',\n",
    "                   database='inventory')\n",
    "print(conn)"
   ]
  },
  {
   "cell_type": "code",
   "execution_count": null,
   "id": "e3cd7dab",
   "metadata": {},
   "outputs": [],
   "source": [
    "curs=conn.cursor()\n",
    "curs"
   ]
  },
  {
   "cell_type": "code",
   "execution_count": null,
   "id": "97acfabc",
   "metadata": {},
   "outputs": [],
   "source": [
    "curs.execute(\"create table purchases (purchase_id INT PRIMARY KEY, product_name VARCHAR(50),  quantity INT)\")"
   ]
  },
  {
   "cell_type": "code",
   "execution_count": null,
   "id": "ddc675f8",
   "metadata": {},
   "outputs": [],
   "source": [
    "curs.execute(\"create table sales (sales_id INT PRIMARY KEY, sales_date DATE,  quantity INT)\")"
   ]
  },
  {
   "cell_type": "code",
   "execution_count": null,
   "id": "578d40b4",
   "metadata": {},
   "outputs": [],
   "source": [
    "curs.execute(\"create table inventory (inventory_id INT, inventory_name VARCHAR(50),  quantity INT)\")"
   ]
  },
  {
   "cell_type": "code",
   "execution_count": null,
   "id": "18fc6c35",
   "metadata": {},
   "outputs": [],
   "source": [
    "curs.execute(\"show tables\")\n",
    "for i in curs:\n",
    "    print(i)"
   ]
  },
  {
   "cell_type": "code",
   "execution_count": null,
   "id": "ffe9cf63",
   "metadata": {},
   "outputs": [],
   "source": [
    "cus_insert=\"insert into purchases (purchase_id,product_name,quantity) values (%s,%s,%s)\"   #records insert\n",
    "cus_val=[(1003,'bike',400),\n",
    "        (1004,'mobile',500),\n",
    "        (1005,'fidge',600),\n",
    "        (1006,'Laptop',900),\n",
    "        (1007,'tv',900)]\n",
    "\n",
    "curs.executemany(cus_insert,cus_val)\n",
    "conn.commit()\n",
    "print(curs.rowcount,'records inserted')"
   ]
  },
  {
   "cell_type": "code",
   "execution_count": null,
   "id": "6ac38a2d",
   "metadata": {},
   "outputs": [],
   "source": [
    "curs.execute(\"select * from purchases\")\n",
    "result=curs.fetchall()\n",
    "for i in result:\n",
    "        print(i)"
   ]
  },
  {
   "cell_type": "code",
   "execution_count": null,
   "id": "b3100840",
   "metadata": {},
   "outputs": [],
   "source": [
    "cus_insert=\"insert into sales (sales_id,sales_date,quantity) values (%s,%s,%s)\"   #records insert\n",
    "cus_val=[(13,'2001-05-02',3000),\n",
    "        (14,'2002-08-07',5000),\n",
    "        (15,'2003-09-03',6000),\n",
    "        (16,'2004-06-03',7000),\n",
    "        (17,'2005-07-23',8000)]\n",
    "\n",
    "curs.executemany(cus_insert,cus_val)\n",
    "conn.commit()\n",
    "print(curs.rowcount,'records inserted')"
   ]
  },
  {
   "cell_type": "code",
   "execution_count": null,
   "id": "6813d423",
   "metadata": {},
   "outputs": [],
   "source": [
    "curs.execute(\"select * from sales\")\n",
    "result=curs.fetchall()\n",
    "for i in result:\n",
    "        print(i)"
   ]
  },
  {
   "cell_type": "code",
   "execution_count": null,
   "id": "19a429a1",
   "metadata": {},
   "outputs": [],
   "source": [
    "cus_insert=\"insert into inventory (inventory_id,inventory_name,quantity) values (%s,%s,%s)\"   #records insert\n",
    "cus_val=[(103,'acc',40001),\n",
    "        (104,'bcs',50001),\n",
    "        (105,'hds',60001),\n",
    "        (106,'dfs',70001),\n",
    "        (107,'rew',80001)]\n",
    "\n",
    "curs.executemany(cus_insert,cus_val)\n",
    "conn.commit()\n",
    "print(curs.rowcount,'records inserted')"
   ]
  },
  {
   "cell_type": "code",
   "execution_count": null,
   "id": "2cad5863",
   "metadata": {},
   "outputs": [],
   "source": [
    "curs.execute(\"select * from inventory\")\n",
    "result=curs.fetchall()\n",
    "for i in result:\n",
    "        print(i)"
   ]
  },
  {
   "cell_type": "code",
   "execution_count": null,
   "id": "4e9b6754",
   "metadata": {},
   "outputs": [],
   "source": [
    "sql=\"select * from inventory where quantity<=60001\"\n",
    "curs.execute(sql)\n",
    "for i in curs:\n",
    "    print (i)"
   ]
  },
  {
   "cell_type": "markdown",
   "id": "07d7daed",
   "metadata": {},
   "source": [
    "# 2. Customer Order Processing\n",
    "\n",
    "Scenario: You are building a customer order processing system for an e-commerce company. The system needs to interact with a MySQL database to store customer orders, products, and order details.\n",
    "\n",
    "1. Design a MySQL database schema for the order processing system, including tables for customers, products, and orders.\n",
    "\n",
    "2. Write a Python program that connects to the database and allows customers to place new orders.\n",
    "\n",
    "3. Implement a feature that calculates the total cost of an order and updates product quantities in the database.\n",
    "\n",
    "4. How would you handle cases where a product is no longer available when a customer places an order?\n",
    "\n",
    "5. Develop a function to generate order reports for the company's finance department."
   ]
  },
  {
   "cell_type": "code",
   "execution_count": null,
   "id": "a6006ff8",
   "metadata": {},
   "outputs": [],
   "source": [
    "import mysql.connector as sql"
   ]
  },
  {
   "cell_type": "code",
   "execution_count": null,
   "id": "7c70d4ea",
   "metadata": {},
   "outputs": [],
   "source": [
    "conn= sql.connect(host='127.0.0.1',\n",
    "                   user='root',\n",
    "                   password='Raus#199815@K',\n",
    "                   database='customer')\n",
    "print(conn)"
   ]
  },
  {
   "cell_type": "code",
   "execution_count": null,
   "id": "80de80b2",
   "metadata": {},
   "outputs": [],
   "source": [
    "curs=conn.cursor()\n",
    "curs"
   ]
  },
  {
   "cell_type": "code",
   "execution_count": null,
   "id": "bac54525",
   "metadata": {},
   "outputs": [],
   "source": [
    "curs.execute(\"create table customer_order (customer_id INT PRIMARY KEY, name VARCHAR(50), email VARCHAR(255))\")"
   ]
  },
  {
   "cell_type": "code",
   "execution_count": null,
   "id": "b546930b",
   "metadata": {},
   "outputs": [],
   "source": [
    "curs.execute(\"create table products (product_id INT PRIMARY KEY, product_name VARCHAR(255) NOT NULL,price DECIMAL(10, 2) NOT NULL, quantity INT)\")"
   ]
  },
  {
   "cell_type": "code",
   "execution_count": null,
   "id": "0b0b5b77",
   "metadata": {},
   "outputs": [],
   "source": [
    "curs.execute(\"create table order_details (order_id INT PRIMARY KEY, customer_id INT, order_date DATE)\")"
   ]
  },
  {
   "cell_type": "code",
   "execution_count": null,
   "id": "6965b064",
   "metadata": {},
   "outputs": [],
   "source": [
    "curs.execute(\"show tables\")\n",
    "for i in curs:\n",
    "    print(i)"
   ]
  },
  {
   "cell_type": "code",
   "execution_count": null,
   "id": "fa22faa8",
   "metadata": {},
   "outputs": [],
   "source": [
    "cus_insert=\"insert into customer_order (customer_id,name,email) values (%s,%s,%s)\"   #records insert\n",
    "cus_val=[(101,'john','john@gmail.com'),\n",
    "        (102,'alex','alex@gmail.com'),\n",
    "        (103,'Rohit','aman@gmail.com'),\n",
    "        (104,'sumit','abhi@gmail.com'),\n",
    "        (105,'abhijeet','ankit@gmail.com')]\n",
    "\n",
    "curs.executemany(cus_insert,cus_val)\n",
    "conn.commit()\n",
    "print(curs.rowcount,'records inserted')"
   ]
  },
  {
   "cell_type": "code",
   "execution_count": null,
   "id": "2f365eca",
   "metadata": {},
   "outputs": [],
   "source": [
    "curs.execute(\"select * from customer_order\")\n",
    "result=curs.fetchall()\n",
    "for i in result:\n",
    "        print(i)"
   ]
  },
  {
   "cell_type": "code",
   "execution_count": null,
   "id": "bb77bbef",
   "metadata": {},
   "outputs": [],
   "source": [
    "cus_insert=\"insert into products (product_id,product_name,price,quantity) values (%s,%s,%s,%s)\"   #records insert\n",
    "cus_val=[(1001,'books',1000.3,100),\n",
    "        (1002,'mobile',2030.34,200),\n",
    "        (1003,'TV',3272.844,300),\n",
    "        (1004,'Laptop',4728.833,928),\n",
    "        (1005,'AC',2738.373,938)]\n",
    "\n",
    "curs.executemany(cus_insert,cus_val)\n",
    "conn.commit()\n",
    "print(curs.rowcount,'records inserted')"
   ]
  },
  {
   "cell_type": "code",
   "execution_count": null,
   "id": "a3166493",
   "metadata": {},
   "outputs": [],
   "source": [
    "curs.execute(\"select * from products\")\n",
    "result=curs.fetchall()\n",
    "for i in result:\n",
    "        print(i)"
   ]
  },
  {
   "cell_type": "code",
   "execution_count": null,
   "id": "b2df38c4",
   "metadata": {},
   "outputs": [],
   "source": [
    "cus_insert=\"insert into order_details (order_id,customer_id,order_date) values (%s,%s,%s)\"   #records insert\n",
    "cus_val=[(101,1234,'2019-09-22'),\n",
    "        (102,3456,'2020-10-23'),\n",
    "        (103,7545,'2021-02-28'),\n",
    "        (104,5644,'2022-01-21'),\n",
    "        (105,5443,'2023-03-23')]\n",
    "\n",
    "curs.executemany(cus_insert,cus_val)\n",
    "conn.commit()\n",
    "print(curs.rowcount,'records inserted')"
   ]
  },
  {
   "cell_type": "code",
   "execution_count": null,
   "id": "73447f37",
   "metadata": {},
   "outputs": [],
   "source": [
    "curs.execute(\"select * from order_details\")\n",
    "result=curs.fetchall()\n",
    "for i in result:\n",
    "        print(i)"
   ]
  },
  {
   "cell_type": "code",
   "execution_count": null,
   "id": "e095395e",
   "metadata": {},
   "outputs": [],
   "source": [
    "import mysql.connector\n",
    "\n",
    "conn = mysql.connector.connect(\n",
    "    host=\"127.0.0.1\",\n",
    "    user=\"root\",\n",
    "    password=\"Raus#199815@K\",\n",
    "    database=\"customer\"\n",
    ")\n",
    "cursor = conn.cursor()\n",
    "\n",
    "\n",
    "def place_order(customer_id, product_id, quantity):    \n",
    "    try:\n",
    "        \n",
    "        cursor.execute(\"SELECT quantity, price FROM products WHERE product_id = %s\", (product_id,))    # Check if the product is available\n",
    "        result = cursor.fetchone()\n",
    "\n",
    "        if result and result[0] >= quantity:\n",
    "            subtotal = result[1] * quantity\n",
    "\n",
    "           \n",
    "            cursor.execute(\"INSERT INTO order_details (order_id, product_id, quantity, subtotal) VALUES (%s, %s, %s, %s)\",\n",
    "                           (order_id, product_id, quantity, subtotal))\n",
    "\n",
    "            \n",
    "            cursor.execute(\"UPDATE products SET quantity = quantity - %s WHERE product_id = %s\",\n",
    "                           (quantity, product_id))\n",
    "\n",
    "            conn.commit()\n",
    "            print(\"Order placed successfully.\")\n",
    "        else:\n",
    "            print(\"Product not available or insufficient quantity.\")\n",
    "    except mysql.connector.Error as e:\n",
    "        print(f\"Error: {e}\")\n",
    "\n",
    "\n",
    "place_order(1, 11, 20)\n",
    "\n",
    "\n",
    "conn.close()"
   ]
  },
  {
   "cell_type": "code",
   "execution_count": null,
   "id": "88b54e19",
   "metadata": {},
   "outputs": [],
   "source": []
  },
  {
   "cell_type": "code",
   "execution_count": null,
   "id": "7dd36738",
   "metadata": {},
   "outputs": [],
   "source": []
  },
  {
   "cell_type": "markdown",
   "id": "3a418313",
   "metadata": {},
   "source": [
    "# 3. You are tasked with developing a Python program that connects to a MySQL database, retrieves data from a table, performs some operations on the data, and updates the database with the modified data. Please write Python code to accomplish this task.\n",
    "\n",
    "Instructions:\n",
    "\n",
    "1. Assume that you have a MySQL database server running with the following details: i. Host: localhost\n",
    "\n",
    "ii. Port: 3306\n",
    "\n",
    "iii. Username: your_username\n",
    "\n",
    "iv. Password: your password v. Database Name: your_database\n",
    "\n",
    "vii. The table has the following columns: id (int)name (varchar),quantity (int). 2. Your Python program should:\n",
    "\n",
    "vi. Table Name: your_table\n",
    "\n",
    "i. Connect to the MySQL database. ii. Retrieve all records from the your_table table.\n",
    "\n",
    "iii. Calculate the total quantity of all records retrieved. iv. Update the quantity column of each record by doubling its value\n",
    "\n",
    "v. Commit the changes to the database.\n",
    "\n",
    "vi. Close the database connection.\n",
    "\n",
    "3. Handle any potential errors that may occur during the database connection and data manipulation, such as connection failures or SQL errors.\n",
    "\n",
    "4. Provide comments in your code to explain each step."
   ]
  },
  {
   "cell_type": "code",
   "execution_count": null,
   "id": "28495c1e",
   "metadata": {},
   "outputs": [],
   "source": [
    "import mysql.connector as sql"
   ]
  },
  {
   "cell_type": "code",
   "execution_count": null,
   "id": "3f8020af",
   "metadata": {},
   "outputs": [],
   "source": [
    "conn= sql.connect(host='127.0.0.1',\n",
    "                   user='root',\n",
    "                   password='Raus#199815@K',\n",
    "                   database='demo')\n",
    "print(conn)"
   ]
  },
  {
   "cell_type": "code",
   "execution_count": null,
   "id": "ff73fa84",
   "metadata": {},
   "outputs": [],
   "source": [
    "curs=conn.cursor()"
   ]
  },
  {
   "cell_type": "code",
   "execution_count": null,
   "id": "dffb0aca",
   "metadata": {},
   "outputs": [],
   "source": [
    "curs"
   ]
  },
  {
   "cell_type": "code",
   "execution_count": null,
   "id": "1c91f75f",
   "metadata": {},
   "outputs": [],
   "source": [
    "curs.execute(\"create table test_demo (id int,name varchar(20), quantity int)\")"
   ]
  },
  {
   "cell_type": "code",
   "execution_count": null,
   "id": "8353178e",
   "metadata": {},
   "outputs": [],
   "source": [
    "curs.execute(\"show tables\")\n",
    "for i in curs:\n",
    "    print(i)"
   ]
  },
  {
   "cell_type": "code",
   "execution_count": null,
   "id": "39611a14",
   "metadata": {},
   "outputs": [],
   "source": [
    "cus_insert=\"insert into test_demo (id,name,quantity) values (%s,%s,%s)\"   #records insert\n",
    "cus_val=[(101,'john',1000),\n",
    "        (102,'alex',2000),\n",
    "        (103,'Rohit',3000),\n",
    "        (104,'sumit',4000),\n",
    "        (105,'abhijeet',5000)]\n",
    "\n",
    "curs.executemany(cus_insert,cus_val)\n",
    "conn.commit()\n",
    "print(curs.rowcount,'records inserted')"
   ]
  },
  {
   "cell_type": "code",
   "execution_count": null,
   "id": "72141db4",
   "metadata": {},
   "outputs": [],
   "source": [
    "curs.execute(\"select * from test_demo\")\n",
    "result=curs.fetchall()\n",
    "for i in result:\n",
    "        print(i)"
   ]
  },
  {
   "cell_type": "code",
   "execution_count": null,
   "id": "190003fa",
   "metadata": {},
   "outputs": [],
   "source": [
    "import mysql.connector\n",
    "\n",
    "# Database connection configuration\n",
    "db_config = {\n",
    "    \"host\": \"127.0.0.1\",\n",
    "    \"user\": \"root\",\n",
    "    \"password\": \"Raus#199815@K\",\n",
    "    \"database\": \"demo\",\n",
    "}\n",
    "\n",
    "try:\n",
    "    # Connect to the MySQL database\n",
    "    conn = mysql.connector.connect(**db_config)\n",
    "    cursor = conn.cursor()\n",
    "\n",
    "    # Retrieve all records from your table\n",
    "    cursor.execute(\"SELECT * FROM test_demo\")\n",
    "    records = cursor.fetchall()\n",
    "\n",
    "    # Calculate the total quantity of all records retrieved\n",
    "    total_quantity = sum(record[2] for record in records)\n",
    "\n",
    "    # Update the quantity column of each record by doubling its value\n",
    "    for record in records:\n",
    "        new_quantity = record[2] * 2\n",
    "        cursor.execute(\"UPDATE test_demo SET quantity = %s WHERE id = %s\", (new_quantity, record[0]))\n",
    "\n",
    "   \n",
    "    conn.commit()           # Commit the changes to the database\n",
    "\n",
    "  \n",
    "    conn.close()            # Close the database connection\n",
    "\n",
    "    # Print the total quantity before and after the update\n",
    "    print(f\"Total quantity before update: {total_quantity}\")\n",
    "    print(\"All records updated successfully.\")\n",
    "\n",
    "except mysql.connector.Error as e:\n",
    "    # Handle any potential errors during the database connection and data manipulation\n",
    "    print(f\"Error: {e}\")\n",
    "finally:\n",
    "    if conn.is_connected():\n",
    "        conn.close()"
   ]
  },
  {
   "cell_type": "markdown",
   "id": "5b16ce78",
   "metadata": {},
   "source": [
    "# 4 You are developing an employ management system for a company. The database should store employee information including name salary department and higher date managers should be able to view update employee details.\n",
    "#Design the database schema for the employ management system.\n",
    "#Write python code to connect to the database and retrieve a list of employee in specific department\n",
    "#Implement a future update and employees salary"
   ]
  },
  {
   "cell_type": "code",
   "execution_count": null,
   "id": "1e8128a0",
   "metadata": {},
   "outputs": [],
   "source": [
    "import mysql.connector as sql"
   ]
  },
  {
   "cell_type": "code",
   "execution_count": null,
   "id": "62c17849",
   "metadata": {},
   "outputs": [],
   "source": [
    "conn= sql.connect(host='127.0.0.1',\n",
    "                   user='root',\n",
    "                   password='Raus#199815@K',\n",
    "                   database='employee_managment1')\n",
    "print(conn)"
   ]
  },
  {
   "cell_type": "code",
   "execution_count": null,
   "id": "37dca646",
   "metadata": {},
   "outputs": [],
   "source": [
    "curs=conn.cursor()"
   ]
  },
  {
   "cell_type": "code",
   "execution_count": null,
   "id": "c39ec820",
   "metadata": {},
   "outputs": [],
   "source": [
    "curs"
   ]
  },
  {
   "cell_type": "code",
   "execution_count": null,
   "id": "d2f6030f",
   "metadata": {},
   "outputs": [],
   "source": [
    "curs=conn.cursor()\n",
    "curs.execute(\"show databases\")\n",
    "for i in curs:\n",
    "    print(i)"
   ]
  },
  {
   "cell_type": "code",
   "execution_count": null,
   "id": "0b13f049",
   "metadata": {},
   "outputs": [],
   "source": [
    "curs.execute(\"create table employees1 (name varchar(20), salary INTEGER, department TEXT , hire_date DATE)\")"
   ]
  },
  {
   "cell_type": "code",
   "execution_count": null,
   "id": "3ef3ba72",
   "metadata": {},
   "outputs": [],
   "source": [
    "curs.execute(\"show tables\")\n",
    "for i in curs:\n",
    "    print(i)"
   ]
  },
  {
   "cell_type": "code",
   "execution_count": null,
   "id": "27d031db",
   "metadata": {},
   "outputs": [],
   "source": [
    "cus_insert=\"insert into employees1 (name,salary,department,hire_date) values (%s,%s,%s,%s)\"   #records insert\n",
    "cus_val=[('john',5200,'IT','2013-09-6'),\n",
    "        ('alex',5600,'CS','2015-08-14'),\n",
    "        ('Rohit',4843,'ECE','2013-03-15'),\n",
    "        ('sumit',9877,'ME','2014-05-16')]\n",
    "\n",
    "curs.executemany(cus_insert,cus_val)\n",
    "conn.commit()"
   ]
  },
  {
   "cell_type": "code",
   "execution_count": null,
   "id": "49000029",
   "metadata": {},
   "outputs": [],
   "source": [
    "#display\n",
    "curs.execute(\"select * from employees1\")\n",
    "result=curs.fetchall()\n",
    "for i in result:\n",
    "        print(i)"
   ]
  },
  {
   "cell_type": "code",
   "execution_count": null,
   "id": "7484b222",
   "metadata": {},
   "outputs": [],
   "source": [
    "sql=\"select * from employees1 where department='IT'\"\n",
    "curs.execute(sql)\n",
    "for i in curs:\n",
    "    print (i)"
   ]
  },
  {
   "cell_type": "code",
   "execution_count": null,
   "id": "7f0e3195",
   "metadata": {},
   "outputs": [],
   "source": [
    "sql=\"UPDATE employees1 SET salary = 20000 WHERE name = 'john'\"\n",
    "curs.execute(sql)\n",
    "for i in curs:\n",
    "    print (i)"
   ]
  },
  {
   "cell_type": "code",
   "execution_count": null,
   "id": "7ea82d59",
   "metadata": {},
   "outputs": [],
   "source": [
    "sql=\"select * from employees1 where department='IT'\"\n",
    "curs.execute(sql)\n",
    "for i in curs:\n",
    "    print (i)"
   ]
  },
  {
   "cell_type": "code",
   "execution_count": null,
   "id": "d04ff365",
   "metadata": {},
   "outputs": [],
   "source": []
  },
  {
   "cell_type": "code",
   "execution_count": null,
   "id": "d4d2810f",
   "metadata": {},
   "outputs": [],
   "source": []
  },
  {
   "cell_type": "code",
   "execution_count": null,
   "id": "117bc00f",
   "metadata": {},
   "outputs": [],
   "source": []
  },
  {
   "cell_type": "code",
   "execution_count": null,
   "id": "e95f504a",
   "metadata": {},
   "outputs": [],
   "source": []
  }
 ],
 "metadata": {
  "kernelspec": {
   "display_name": "Python 3 (ipykernel)",
   "language": "python",
   "name": "python3"
  },
  "language_info": {
   "codemirror_mode": {
    "name": "ipython",
    "version": 3
   },
   "file_extension": ".py",
   "mimetype": "text/x-python",
   "name": "python",
   "nbconvert_exporter": "python",
   "pygments_lexer": "ipython3",
   "version": "3.11.4"
  }
 },
 "nbformat": 4,
 "nbformat_minor": 5
}
