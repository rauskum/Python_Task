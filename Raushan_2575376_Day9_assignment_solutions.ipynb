{
 "cells": [
  {
   "cell_type": "markdown",
   "id": "f9a2420a",
   "metadata": {},
   "source": [
    "# 1.Create a 3×3×3 array with random values"
   ]
  },
  {
   "cell_type": "code",
   "execution_count": 1,
   "id": "7cfd225a",
   "metadata": {},
   "outputs": [
    {
     "name": "stdout",
     "output_type": "stream",
     "text": [
      "[[[0.5488135  0.71518937 0.60276338]\n",
      "  [0.54488318 0.4236548  0.64589411]\n",
      "  [0.43758721 0.891773   0.96366276]]\n",
      "\n",
      " [[0.38344152 0.79172504 0.52889492]\n",
      "  [0.56804456 0.92559664 0.07103606]\n",
      "  [0.0871293  0.0202184  0.83261985]]\n",
      "\n",
      " [[0.77815675 0.87001215 0.97861834]\n",
      "  [0.79915856 0.46147936 0.78052918]\n",
      "  [0.11827443 0.63992102 0.14335329]]]\n"
     ]
    }
   ],
   "source": [
    "import numpy as np\n",
    "\n",
    "# Set the random seed for reproducibility\n",
    "np.random.seed(0)\n",
    "\n",
    "# Create a 3x3x3 array with random values between 0 and 1\n",
    "array = np.random.rand(3, 3, 3)\n",
    "\n",
    "print(array)"
   ]
  },
  {
   "cell_type": "markdown",
   "id": "37dc3933",
   "metadata": {},
   "source": [
    "# 2.Create a 5x5 matrix with values 1,2,3,4 just below the diagonal"
   ]
  },
  {
   "cell_type": "code",
   "execution_count": 3,
   "id": "681c7600",
   "metadata": {},
   "outputs": [
    {
     "name": "stdout",
     "output_type": "stream",
     "text": [
      "[[0. 0. 0. 0. 0.]\n",
      " [1. 0. 0. 0. 0.]\n",
      " [0. 2. 0. 0. 0.]\n",
      " [0. 0. 3. 0. 0.]\n",
      " [0. 0. 0. 4. 0.]]\n"
     ]
    }
   ],
   "source": [
    "import numpy as np\n",
    "\n",
    "# Create a 5x5 matrix with all zeros\n",
    "matrix = np.zeros((5, 5))\n",
    "\n",
    "# Set the values 1, 2, 3, 4 just below the diagonal\n",
    "np.fill_diagonal(matrix[1:], [1, 2, 3, 4])\n",
    "\n",
    "print(matrix)"
   ]
  },
  {
   "cell_type": "markdown",
   "id": "98e6314c",
   "metadata": {},
   "source": [
    "# 3.Create a 8x8 matrix and fill it with a checkerboard pattern "
   ]
  },
  {
   "cell_type": "code",
   "execution_count": 4,
   "id": "e94e6483",
   "metadata": {},
   "outputs": [
    {
     "name": "stdout",
     "output_type": "stream",
     "text": [
      "[[0. 1. 0. 1. 0. 1. 0. 1.]\n",
      " [1. 0. 1. 0. 1. 0. 1. 0.]\n",
      " [0. 1. 0. 1. 0. 1. 0. 1.]\n",
      " [1. 0. 1. 0. 1. 0. 1. 0.]\n",
      " [0. 1. 0. 1. 0. 1. 0. 1.]\n",
      " [1. 0. 1. 0. 1. 0. 1. 0.]\n",
      " [0. 1. 0. 1. 0. 1. 0. 1.]\n",
      " [1. 0. 1. 0. 1. 0. 1. 0.]]\n"
     ]
    }
   ],
   "source": [
    "import numpy as np\n",
    "\n",
    "# Create an 8x8 matrix with all zeros\n",
    "matrix = np.zeros((8, 8))\n",
    "\n",
    "# Fill the matrix with a checkerboard pattern\n",
    "matrix[1::2, ::2] = 1\n",
    "matrix[::2, 1::2] = 1\n",
    "\n",
    "print(matrix)"
   ]
  },
  {
   "cell_type": "markdown",
   "id": "41861b6b",
   "metadata": {},
   "source": [
    "# 4. Normalize a 5x5 random matrix"
   ]
  },
  {
   "cell_type": "code",
   "execution_count": 5,
   "id": "d4280a43",
   "metadata": {},
   "outputs": [
    {
     "name": "stdout",
     "output_type": "stream",
     "text": [
      "[[ 1.87733962  0.11528392 -0.33140287 -0.95695354  1.16707062]\n",
      " [-0.15850481  0.30942411 -1.98115401  0.51446585  0.49137948]\n",
      " [ 0.51154243  1.87350213  0.78194855 -0.56125092 -0.23817843]\n",
      " [ 0.84783863 -1.80847566  0.71921449  0.73534707 -1.18271344]\n",
      " [-1.52217295 -0.74494732 -0.54373594  0.31677047 -0.23163748]]\n"
     ]
    }
   ],
   "source": [
    "import numpy as np\n",
    "\n",
    "# Create a 5x5 random matrix\n",
    "matrix = np.random.random((5, 5))\n",
    "\n",
    "# Normalize the matrix\n",
    "normalized_matrix = (matrix - np.mean(matrix)) / np.std(matrix)\n",
    "\n",
    "print(normalized_matrix)"
   ]
  },
  {
   "cell_type": "markdown",
   "id": "1a0cd2fe",
   "metadata": {},
   "source": [
    "# 5. How to find common values between two arrays?"
   ]
  },
  {
   "cell_type": "code",
   "execution_count": 13,
   "id": "f6678b42",
   "metadata": {},
   "outputs": [
    {
     "name": "stdout",
     "output_type": "stream",
     "text": [
      "[4 5]\n"
     ]
    }
   ],
   "source": [
    "import numpy as np\n",
    "\n",
    "# Create two arrays\n",
    "array1 = np.array([1, 2, 3, 4, 5])\n",
    "array2 = np.array([4, 5, 6, 7, 8])\n",
    "\n",
    "# Find common values\n",
    "common_values = np.intersect1d(array1, array2)\n",
    "\n",
    "print(common_values)"
   ]
  },
  {
   "cell_type": "markdown",
   "id": "13becd3e",
   "metadata": {},
   "source": [
    "# 6. How to get the dates of yesterday, today and tomorrow? "
   ]
  },
  {
   "cell_type": "code",
   "execution_count": 9,
   "id": "abe4e4cd",
   "metadata": {},
   "outputs": [
    {
     "name": "stdout",
     "output_type": "stream",
     "text": [
      "Yesterday: 2023-09-20\n",
      "Today: 2023-09-21\n",
      "Tomorrow: 2023-09-22\n"
     ]
    }
   ],
   "source": [
    "from datetime import date, timedelta\n",
    "\n",
    "# Get today's date\n",
    "today = date.today()\n",
    "\n",
    "# Get yesterday's date\n",
    "yesterday = today - timedelta(days=1)\n",
    "\n",
    "# Get tomorrow's date\n",
    "tomorrow = today + timedelta(days=1)\n",
    "\n",
    "print(\"Yesterday:\", yesterday)\n",
    "print(\"Today:\", today)\n",
    "print(\"Tomorrow:\", tomorrow)"
   ]
  },
  {
   "cell_type": "markdown",
   "id": "b1a8aa3f",
   "metadata": {},
   "source": [
    "# 7. Consider two random array A and B, check if they are equal"
   ]
  },
  {
   "cell_type": "code",
   "execution_count": 11,
   "id": "3bda0265",
   "metadata": {},
   "outputs": [
    {
     "name": "stdout",
     "output_type": "stream",
     "text": [
      "Array A: [0.98837384 0.10204481 0.20887676 0.16130952 0.65310833]\n",
      "Array B: [0.2532916  0.46631077 0.24442559 0.15896958 0.11037514]\n",
      "Are A and B equal? False\n"
     ]
    }
   ],
   "source": [
    "import numpy as np\n",
    "\n",
    "# Create two random arrays A and B\n",
    "A = np.random.rand(5)\n",
    "B = np.random.rand(5)\n",
    "\n",
    "# Check if A and B are equal\n",
    "are_equal = np.array_equal(A, B)\n",
    "\n",
    "print(\"Array A:\", A)\n",
    "print(\"Array B:\", B)\n",
    "print(\"Are A and B equal?\", are_equal)"
   ]
  },
  {
   "cell_type": "markdown",
   "id": "79e46612",
   "metadata": {},
   "source": [
    "# 8.Create random vector of size 10 and replace the maximum value by 0"
   ]
  },
  {
   "cell_type": "code",
   "execution_count": 15,
   "id": "85c6f75c",
   "metadata": {},
   "outputs": [
    {
     "name": "stdout",
     "output_type": "stream",
     "text": [
      "Original vector: [0.65632959 0.13818295 0.19658236 0.36872517 0.82099323 0.09710128\n",
      " 0.83794491 0.09609841 0.         0.4686512 ]\n",
      "Maximum value: 0.9764594650133958\n",
      "Index of maximum value: 8\n"
     ]
    }
   ],
   "source": [
    "import numpy as np\n",
    "\n",
    "# Create a random vector of size 10\n",
    "vector = np.random.rand(10)\n",
    "\n",
    "# Find the maximum value in the vector\n",
    "max_value = np.max(vector)\n",
    "\n",
    "# Find the index of the maximum value\n",
    "max_index = np.argmax(vector)\n",
    "\n",
    "# Replace the maximum value with 0\n",
    "vector[max_index] = 0\n",
    "\n",
    "print(\"Original vector:\", vector)\n",
    "print(\"Maximum value:\", max_value)\n",
    "print(\"Index of maximum value:\", max_index)\n"
   ]
  },
  {
   "cell_type": "markdown",
   "id": "072a4257",
   "metadata": {},
   "source": [
    "# 9 How to print all the values of an array?"
   ]
  },
  {
   "cell_type": "code",
   "execution_count": 17,
   "id": "95750265",
   "metadata": {},
   "outputs": [
    {
     "name": "stdout",
     "output_type": "stream",
     "text": [
      "[1 2 3 4 5 6]\n"
     ]
    }
   ],
   "source": [
    "import numpy as np\n",
    "\n",
    "# Create an array\n",
    "array = np.array([1, 2, 3, 4, 5, 6])\n",
    "\n",
    "# Print all the values of the array\n",
    "print(array)\n"
   ]
  },
  {
   "cell_type": "markdown",
   "id": "79bbe389",
   "metadata": {},
   "source": [
    "# 10.Subtract the mean of each row of a matrix"
   ]
  },
  {
   "cell_type": "code",
   "execution_count": 19,
   "id": "2477b978",
   "metadata": {},
   "outputs": [
    {
     "name": "stdout",
     "output_type": "stream",
     "text": [
      "[[-1.  0.  1.]\n",
      " [-1.  0.  1.]\n",
      " [-1.  0.  1.]]\n"
     ]
    }
   ],
   "source": [
    "import numpy as np\n",
    "\n",
    "# Create a matrix\n",
    "matrix = np.array([[1, 2, 3],\n",
    "                   [4, 5, 6],\n",
    "                   [7, 8, 9]])\n",
    "\n",
    "# Calculate the mean of each row\n",
    "row_means = np.mean(matrix, axis=1)\n",
    "\n",
    "# Subtract the mean of each row from the corresponding row\n",
    "matrix_minus_mean = matrix - row_means[:, np.newaxis]\n",
    "\n",
    "# Print the resulting matrix\n",
    "print(matrix_minus_mean)"
   ]
  },
  {
   "cell_type": "markdown",
   "id": "e3213402",
   "metadata": {},
   "source": [
    "# 11.Consider a given vector, how to add 1 to each element indexed by a second vector (be careful with repeated indices)?"
   ]
  },
  {
   "cell_type": "code",
   "execution_count": 21,
   "id": "4c21a10a",
   "metadata": {},
   "outputs": [
    {
     "name": "stdout",
     "output_type": "stream",
     "text": [
      "[5 6 6 8 8]\n"
     ]
    }
   ],
   "source": [
    "import numpy as np\n",
    "\n",
    "# Given vector\n",
    "given_vector = np.array([4, 5, 6, 7, 8])\n",
    "\n",
    "# Second vector with indices\n",
    "indices_vector = np.array([0, 1, 3, 1])\n",
    "\n",
    "# Add 1 to each element indexed by the second vector\n",
    "given_vector[indices_vector] += 1\n",
    "\n",
    "print(given_vector)"
   ]
  },
  {
   "cell_type": "markdown",
   "id": "6d0f9cfc",
   "metadata": {},
   "source": [
    "# 12. How to get the diagonal of a dot product?"
   ]
  },
  {
   "cell_type": "code",
   "execution_count": 27,
   "id": "ac3a2e10",
   "metadata": {},
   "outputs": [
    {
     "name": "stdout",
     "output_type": "stream",
     "text": [
      "[ 84 216 366]\n"
     ]
    }
   ],
   "source": [
    "import numpy as np\n",
    "\n",
    "# Define two matrices\n",
    "matrix1 = np.array([[1, 2, 3],\n",
    "                    [4, 5, 6],\n",
    "                    [7, 8, 9]])\n",
    "\n",
    "matrix2 = np.array([[10, 11, 12],\n",
    "                    [13, 14, 15],\n",
    "                    [16, 17, 18]])\n",
    "\n",
    "# Calculate the dot product of the two matrices\n",
    "dot_product = np.dot(matrix1, matrix2)\n",
    "\n",
    "# Get the diagonal of the dot product\n",
    "diagonal = np.diagonal(dot_product)\n",
    "\n",
    "print(diagonal)"
   ]
  },
  {
   "cell_type": "markdown",
   "id": "89fff397",
   "metadata": {},
   "source": [
    "# 13.How to find the most frequent value in an array?"
   ]
  },
  {
   "cell_type": "code",
   "execution_count": 4,
   "id": "f2de2490",
   "metadata": {},
   "outputs": [
    {
     "name": "stdout",
     "output_type": "stream",
     "text": [
      "[1 0 0 7 1 8 2 0 5 9 0 8 9 8 0 8 8 6 6 6 3 2 8 0 1 1 6 7 1 3 7 7 9 2 6 9 8\n",
      " 9 6 7 7 1 2 2 0 1 0 6 4 0]\n",
      "Most frequent value: 0\n"
     ]
    }
   ],
   "source": [
    "my_array = np.random.randint(0,10,50)\n",
    "print(my_array)\n",
    " # Find the most frequent value\n",
    "most_frequent_value = np.bincount(my_array).argmax()\n",
    "\n",
    "print(\"Most frequent value:\", most_frequent_value)"
   ]
  },
  {
   "cell_type": "code",
   "execution_count": null,
   "id": "86d1b52f",
   "metadata": {},
   "outputs": [],
   "source": [
    "14.How to get the n largest values of an array"
   ]
  },
  {
   "cell_type": "code",
   "execution_count": 3,
   "id": "8478c53d",
   "metadata": {},
   "outputs": [
    {
     "name": "stdout",
     "output_type": "stream",
     "text": [
      "[10  8  6]\n"
     ]
    }
   ],
   "source": [
    "import numpy as np\n",
    "\n",
    "# Example array\n",
    "arr = np.array([5, 10, 3, 8, 1, 6])\n",
    "\n",
    "# Get the indices that would sort the array in descending order\n",
    "sorted_indices = np.argsort(-arr)\n",
    "\n",
    "# Get the n largest values\n",
    "n = 3\n",
    "n_largest_values = arr[sorted_indices[:n]]\n",
    "\n",
    "print(n_largest_values)\n",
    "\n"
   ]
  },
  {
   "cell_type": "markdown",
   "id": "4c94c877",
   "metadata": {},
   "source": [
    "# 15.How to create a record array from a regular array?"
   ]
  },
  {
   "cell_type": "code",
   "execution_count": 7,
   "id": "4cdf121b",
   "metadata": {},
   "outputs": [
    {
     "ename": "ValueError",
     "evalue": "When changing to a larger dtype, its size must be a divisor of the total size in bytes of the last axis of the array.",
     "output_type": "error",
     "traceback": [
      "\u001b[1;31m---------------------------------------------------------------------------\u001b[0m",
      "\u001b[1;31mValueError\u001b[0m                                Traceback (most recent call last)",
      "Cell \u001b[1;32mIn[7], line 7\u001b[0m\n\u001b[0;32m      4\u001b[0m regular_array \u001b[38;5;241m=\u001b[39m np\u001b[38;5;241m.\u001b[39marray([(\u001b[38;5;241m1\u001b[39m, \u001b[38;5;124m'\u001b[39m\u001b[38;5;124mJohn\u001b[39m\u001b[38;5;124m'\u001b[39m, \u001b[38;5;241m25\u001b[39m), (\u001b[38;5;241m2\u001b[39m, \u001b[38;5;124m'\u001b[39m\u001b[38;5;124mJane\u001b[39m\u001b[38;5;124m'\u001b[39m, \u001b[38;5;241m30\u001b[39m), (\u001b[38;5;241m3\u001b[39m, \u001b[38;5;124m'\u001b[39m\u001b[38;5;124mMike\u001b[39m\u001b[38;5;124m'\u001b[39m, \u001b[38;5;241m35\u001b[39m)])\n\u001b[0;32m      6\u001b[0m \u001b[38;5;66;03m# Create a record array\u001b[39;00m\n\u001b[1;32m----> 7\u001b[0m record_array \u001b[38;5;241m=\u001b[39m np\u001b[38;5;241m.\u001b[39mrec\u001b[38;5;241m.\u001b[39marray(regular_array, dtype\u001b[38;5;241m=\u001b[39m[(\u001b[38;5;124m'\u001b[39m\u001b[38;5;124mid\u001b[39m\u001b[38;5;124m'\u001b[39m, \u001b[38;5;28mint\u001b[39m), (\u001b[38;5;124m'\u001b[39m\u001b[38;5;124mname\u001b[39m\u001b[38;5;124m'\u001b[39m, \u001b[38;5;124m'\u001b[39m\u001b[38;5;124mU10\u001b[39m\u001b[38;5;124m'\u001b[39m), (\u001b[38;5;124m'\u001b[39m\u001b[38;5;124mage\u001b[39m\u001b[38;5;124m'\u001b[39m, \u001b[38;5;28mint\u001b[39m)])\n\u001b[0;32m      9\u001b[0m \u001b[38;5;28mprint\u001b[39m(record_array)\n",
      "File \u001b[1;32mC:\\ProgramData\\anaconda3\\Lib\\site-packages\\numpy\\core\\records.py:1085\u001b[0m, in \u001b[0;36marray\u001b[1;34m(obj, dtype, shape, offset, strides, formats, names, titles, aligned, byteorder, copy)\u001b[0m\n\u001b[0;32m   1083\u001b[0m \u001b[38;5;28;01melif\u001b[39;00m \u001b[38;5;28misinstance\u001b[39m(obj, ndarray):\n\u001b[0;32m   1084\u001b[0m     \u001b[38;5;28;01mif\u001b[39;00m dtype \u001b[38;5;129;01mis\u001b[39;00m \u001b[38;5;129;01mnot\u001b[39;00m \u001b[38;5;28;01mNone\u001b[39;00m \u001b[38;5;129;01mand\u001b[39;00m (obj\u001b[38;5;241m.\u001b[39mdtype \u001b[38;5;241m!=\u001b[39m dtype):\n\u001b[1;32m-> 1085\u001b[0m         new \u001b[38;5;241m=\u001b[39m obj\u001b[38;5;241m.\u001b[39mview(dtype)\n\u001b[0;32m   1086\u001b[0m     \u001b[38;5;28;01melse\u001b[39;00m:\n\u001b[0;32m   1087\u001b[0m         new \u001b[38;5;241m=\u001b[39m obj\n",
      "\u001b[1;31mValueError\u001b[0m: When changing to a larger dtype, its size must be a divisor of the total size in bytes of the last axis of the array."
     ]
    }
   ],
   "source": [
    "import numpy as np\n",
    "\n",
    "# Regular array\n",
    "regular_array = np.array([(1, 'John', 25), (2, 'Jane', 30), (3, 'Mike', 35)])\n",
    "\n",
    "# Create a record array\n",
    "record_array = np.rec.array(regular_array, dtype=[('id', int), ('name', 'U10'), ('age', int)])\n",
    "\n",
    "print(record_array)"
   ]
  },
  {
   "cell_type": "markdown",
   "id": "035f5876",
   "metadata": {},
   "source": [
    "# 16. How to swap two rows of an array?"
   ]
  },
  {
   "cell_type": "code",
   "execution_count": 8,
   "id": "f34cd438",
   "metadata": {},
   "outputs": [
    {
     "name": "stdout",
     "output_type": "stream",
     "text": [
      "[[7 8 9]\n",
      " [4 5 6]\n",
      " [1 2 3]]\n"
     ]
    }
   ],
   "source": [
    "import numpy as np\n",
    "\n",
    "# Create a 2D array\n",
    "array = np.array([[1, 2, 3],\n",
    "                  [4, 5, 6],\n",
    "                  [7, 8, 9]])\n",
    "\n",
    "# Swap rows\n",
    "array[[0, 2]] = array[[2, 0]]\n",
    "\n",
    "print(array)"
   ]
  },
  {
   "cell_type": "markdown",
   "id": "83a4d55f",
   "metadata": {},
   "source": [
    "# 17. Write python code to reshape to the next dimension of numpy array?"
   ]
  },
  {
   "cell_type": "code",
   "execution_count": 5,
   "id": "73ceeae6",
   "metadata": {},
   "outputs": [
    {
     "name": "stdout",
     "output_type": "stream",
     "text": [
      "Original 1D Array:\n",
      "[1 2 3 4 5 6]\n",
      "\n",
      "Reshaped 2D Array:\n",
      "[[1 2 3]\n",
      " [4 5 6]]\n"
     ]
    }
   ],
   "source": [
    "# Create a 1D NumPy array\n",
    "arr_1d = np.array([1, 2, 3, 4, 5, 6])\n",
    "\n",
    "# Reshape to the next dimension (2D)\n",
    "arr_2d = arr_1d.reshape((2, -1))  # -1 automatically calculates the size of the second dimension\n",
    "\n",
    "# Print the original and reshaped arrays\n",
    "print(\"Original 1D Array:\")\n",
    "print(arr_1d)\n",
    "\n",
    "print(\"\\nReshaped 2D Array:\")\n",
    "print(arr_2d)"
   ]
  },
  {
   "cell_type": "code",
   "execution_count": null,
   "id": "07b6cca9",
   "metadata": {},
   "outputs": [],
   "source": []
  }
 ],
 "metadata": {
  "kernelspec": {
   "display_name": "Python 3 (ipykernel)",
   "language": "python",
   "name": "python3"
  },
  "language_info": {
   "codemirror_mode": {
    "name": "ipython",
    "version": 3
   },
   "file_extension": ".py",
   "mimetype": "text/x-python",
   "name": "python",
   "nbconvert_exporter": "python",
   "pygments_lexer": "ipython3",
   "version": "3.11.4"
  }
 },
 "nbformat": 4,
 "nbformat_minor": 5
}
