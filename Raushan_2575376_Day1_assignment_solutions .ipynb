{
 "cells": [
  {
   "cell_type": "markdown",
   "id": "613bb6a5",
   "metadata": {},
   "source": [
    "# 1 Manipulate using a list\n"
   ]
  },
  {
   "cell_type": "code",
   "execution_count": 17,
   "id": "7584e592",
   "metadata": {},
   "outputs": [
    {
     "data": {
      "text/plain": [
       "[1, 'RUSHAN', 2575376]"
      ]
     },
     "execution_count": 17,
     "metadata": {},
     "output_type": "execute_result"
    }
   ],
   "source": [
    "# To add new elements to the end of the list.\n",
    "\n",
    "list = [1, 'RUSHAN' , 2575376]\n",
    "list"
   ]
  },
  {
   "cell_type": "code",
   "execution_count": 18,
   "id": "313fd2c7",
   "metadata": {},
   "outputs": [
    {
     "data": {
      "text/plain": [
       "[1, 'RUSHAN', 2575376, 'Kumar', 1, 2, 3]"
      ]
     },
     "execution_count": 18,
     "metadata": {},
     "output_type": "execute_result"
    }
   ],
   "source": [
    "\n",
    "list.append('Kumar')#append used to add a single element in the list\n",
    "list.extend ([1,2,3]) # extend is used to add\n",
    "list"
   ]
  },
  {
   "cell_type": "code",
   "execution_count": 19,
   "id": "9392c2dd",
   "metadata": {},
   "outputs": [
    {
     "name": "stdout",
     "output_type": "stream",
     "text": [
      "reversed list: \n",
      "\n",
      " [1, 'RUSHAN', 2575376, 'Kumar', 1, 2, 3]\n"
     ]
    }
   ],
   "source": [
    "#To reverse elements in the list\n",
    "\n",
    "list.reverse\n",
    "print(\"reversed list: \\n\\n\", list)"
   ]
  },
  {
   "cell_type": "code",
   "execution_count": 20,
   "id": "fa5b2b63",
   "metadata": {},
   "outputs": [
    {
     "name": "stdout",
     "output_type": "stream",
     "text": [
      "[1, 2, 3, 1, 2, 3]\n"
     ]
    }
   ],
   "source": [
    "#To display the same list of elements multiple times.\n",
    "\n",
    "ls = [1,2,3]\n",
    "mul= ls*2 #list multipled two times\n",
    "print(mul)"
   ]
  },
  {
   "cell_type": "code",
   "execution_count": 21,
   "id": "8e4840b5",
   "metadata": {},
   "outputs": [
    {
     "name": "stdout",
     "output_type": "stream",
     "text": [
      "[1, 2, 3, 4, 5, 6]\n"
     ]
    }
   ],
   "source": [
    "#To concatenate two list\n",
    "\n",
    "list1 = [1,2,3]\n",
    "list2 = [4,5,6]\n",
    "con= list1 + list2 #both the list concatenate to one list\n",
    "print(con)\n"
   ]
  },
  {
   "cell_type": "code",
   "execution_count": 22,
   "id": "3c1bbe77",
   "metadata": {},
   "outputs": [
    {
     "data": {
      "text/plain": [
       "[0, 2, 4, 6, 7, 8]"
      ]
     },
     "execution_count": 22,
     "metadata": {},
     "output_type": "execute_result"
    }
   ],
   "source": [
    "# To sort the elements in the list in ascending order\n",
    "\n",
    "list=[7,8,6,4,2,0]\n",
    "list.sort()\n",
    "list"
   ]
  },
  {
   "cell_type": "markdown",
   "id": "d453210f",
   "metadata": {},
   "source": [
    "# 2 Write a Python program to do in the tuples\n",
    "# manipulate using tuples\n",
    "#To add new elements to the end of the tuples\n",
    "#To reverse elements in the list\n",
    "#To display the elements of the same tuple multiple times.\n",
    "#To concatenate two tuples\n",
    "#To short the elements in the list in ascending order.\n"
   ]
  },
  {
   "cell_type": "code",
   "execution_count": 23,
   "id": "aada41dc",
   "metadata": {},
   "outputs": [
    {
     "data": {
      "text/plain": [
       "(4, 5, 6, 7, 8)"
      ]
     },
     "execution_count": 23,
     "metadata": {},
     "output_type": "execute_result"
    }
   ],
   "source": [
    "# Manipulate using tuples.\n",
    "tuple = (4,5,6,7,8)\n",
    "tuple"
   ]
  },
  {
   "cell_type": "code",
   "execution_count": 26,
   "id": "6d971775",
   "metadata": {},
   "outputs": [
    {
     "data": {
      "text/plain": [
       "(1, 2, 3)"
      ]
     },
     "execution_count": 26,
     "metadata": {},
     "output_type": "execute_result"
    }
   ],
   "source": [
    "#To add new elements to the end of the tuples\n",
    "tup1=(1,2,3)\n",
    "tup1\n",
    "#tuple are imutable, so you can not add new elements\n"
   ]
  },
  {
   "cell_type": "code",
   "execution_count": 59,
   "id": "dd2a0b76",
   "metadata": {},
   "outputs": [
    {
     "name": "stdout",
     "output_type": "stream",
     "text": [
      "(1, 2, 3, 4)\n"
     ]
    }
   ],
   "source": [
    "#To reverse elements in the list\n",
    "def reverse_tuple(tuple2):\n",
    "    return tuple2[::-1]\n",
    "\n",
    "tuple2 = (4, 3, 2, 1)\n",
    "reversed_tuple = reverse_tuple(tuple2)\n",
    "print(reversed_tuple)"
   ]
  },
  {
   "cell_type": "code",
   "execution_count": null,
   "id": "de3cdce1",
   "metadata": {},
   "outputs": [],
   "source": []
  },
  {
   "cell_type": "code",
   "execution_count": null,
   "id": "edc2a343",
   "metadata": {},
   "outputs": [],
   "source": []
  },
  {
   "cell_type": "code",
   "execution_count": 35,
   "id": "ae93300e",
   "metadata": {},
   "outputs": [
    {
     "name": "stdout",
     "output_type": "stream",
     "text": [
      "(1, 2, 3, 1, 2, 3)\n"
     ]
    }
   ],
   "source": [
    "#To display the elements of the same tuple multiple times.\n",
    "tup=(1,2,3)\n",
    "mul=tup*2 #list multiple two times\n",
    "print(mul)\n"
   ]
  },
  {
   "cell_type": "code",
   "execution_count": 36,
   "id": "72e77fb6",
   "metadata": {},
   "outputs": [
    {
     "data": {
      "text/plain": [
       "(1, 2, 3, 3, 2, 5)"
      ]
     },
     "execution_count": 36,
     "metadata": {},
     "output_type": "execute_result"
    }
   ],
   "source": [
    "#To concatenate two tuples\n",
    "\n",
    "tup1 = (1,2,3)\n",
    "tup2 = (3,2,5)\n",
    "con = tup1 + tup2\n",
    "con\n"
   ]
  },
  {
   "cell_type": "code",
   "execution_count": 61,
   "id": "05fc9e67",
   "metadata": {},
   "outputs": [
    {
     "name": "stdout",
     "output_type": "stream",
     "text": [
      "[1, 2, 3, 4]\n"
     ]
    }
   ],
   "source": [
    "#To short the elements in the list in ascending order.\n",
    "\n",
    "def sort_list(list2):\n",
    "    return sorted(list2)\n",
    "\n",
    "list2 = [4, 2, 3, 1]\n",
    "sorted_list = sort_list(list2)\n",
    "print(sorted_list)"
   ]
  },
  {
   "cell_type": "code",
   "execution_count": null,
   "id": "e1818f45",
   "metadata": {},
   "outputs": [],
   "source": []
  },
  {
   "cell_type": "markdown",
   "id": "94f3d609",
   "metadata": {},
   "source": [
    "# 3 write a python program to implement the following using list.\n",
    "#create a list with integers (minimum 10 numbers)\n",
    "#How to display the last number in the list\n",
    "#command for the displaying the value from the list [0:4]\n",
    "#command for the displaying the value from the list [2:]\n",
    "#command for the displaying the value from the list [:6]"
   ]
  },
  {
   "cell_type": "code",
   "execution_count": 40,
   "id": "2ba4fdb2",
   "metadata": {},
   "outputs": [
    {
     "data": {
      "text/plain": [
       "[1, 2, 3, 4, 5, 6, 7, 8, 9, 10]"
      ]
     },
     "execution_count": 40,
     "metadata": {},
     "output_type": "execute_result"
    }
   ],
   "source": [
    "#create a list with integers (minimum 10 numbers)\n",
    "\n",
    "list = [1,2,3,4,5,6,7,8,9,10]\n",
    "list\n"
   ]
  },
  {
   "cell_type": "code",
   "execution_count": 41,
   "id": "887ccdb0",
   "metadata": {},
   "outputs": [
    {
     "data": {
      "text/plain": [
       "10"
      ]
     },
     "execution_count": 41,
     "metadata": {},
     "output_type": "execute_result"
    }
   ],
   "source": [
    "#How to display the last number in the list\n",
    "list[-1]"
   ]
  },
  {
   "cell_type": "code",
   "execution_count": 42,
   "id": "355cd0f1",
   "metadata": {},
   "outputs": [
    {
     "data": {
      "text/plain": [
       "[1, 2, 3, 4]"
      ]
     },
     "execution_count": 42,
     "metadata": {},
     "output_type": "execute_result"
    }
   ],
   "source": [
    "#command for the displaying the value from the list [0:4]\n",
    "\n",
    "list[0:4]"
   ]
  },
  {
   "cell_type": "code",
   "execution_count": 43,
   "id": "9fe57133",
   "metadata": {},
   "outputs": [
    {
     "data": {
      "text/plain": [
       "[1, 2, 3, 4]"
      ]
     },
     "execution_count": 43,
     "metadata": {},
     "output_type": "execute_result"
    }
   ],
   "source": [
    "#command for the displaying the value from the list [0:4]\n",
    "\n",
    "list[0:4]"
   ]
  },
  {
   "cell_type": "code",
   "execution_count": 45,
   "id": "ba7069f6",
   "metadata": {},
   "outputs": [
    {
     "data": {
      "text/plain": [
       "[3, 4, 5, 6, 7, 8, 9, 10]"
      ]
     },
     "execution_count": 45,
     "metadata": {},
     "output_type": "execute_result"
    }
   ],
   "source": [
    "#command for the displaying the value from the list [2:]\n",
    "list[2:]"
   ]
  },
  {
   "cell_type": "code",
   "execution_count": 46,
   "id": "8a5f941b",
   "metadata": {},
   "outputs": [
    {
     "data": {
      "text/plain": [
       "[1, 2, 3, 4, 5, 6]"
      ]
     },
     "execution_count": 46,
     "metadata": {},
     "output_type": "execute_result"
    }
   ],
   "source": [
    "#command for the displaying the value from the list [:6]\n",
    "list[:6]"
   ]
  },
  {
   "cell_type": "markdown",
   "id": "847a53eb",
   "metadata": {},
   "source": [
    "# 4 write a python program: tuple1=(10,50,20,40,30)\n",
    "#To display the elements 10 and 50 from tuple1\n",
    "#To display the length of a tuple1.\n",
    "#To find the Minimum element from tuple1\n",
    "#To add all elements in the tuple1\n",
    "#To Display the same tuple1  multiple times."
   ]
  },
  {
   "cell_type": "code",
   "execution_count": 7,
   "id": "4a8530a3",
   "metadata": {},
   "outputs": [
    {
     "name": "stdout",
     "output_type": "stream",
     "text": [
      "10\n",
      "50\n"
     ]
    }
   ],
   "source": [
    "# To display the elements 10 and 50 from tuple1\n",
    "\n",
    "tuple1=(10,50,20,40,30)\n",
    "print(tuple1[0]) # Output: 10\n",
    "print(tuple1[1]) # Output: 50"
   ]
  },
  {
   "cell_type": "code",
   "execution_count": 8,
   "id": "0eac0080",
   "metadata": {},
   "outputs": [
    {
     "name": "stdout",
     "output_type": "stream",
     "text": [
      "5\n"
     ]
    }
   ],
   "source": [
    "# To display the length of tuple1\n",
    "print(len(tuple1)) # Output: 5"
   ]
  },
  {
   "cell_type": "code",
   "execution_count": 9,
   "id": "0dbdc1d2",
   "metadata": {},
   "outputs": [
    {
     "name": "stdout",
     "output_type": "stream",
     "text": [
      "10\n"
     ]
    }
   ],
   "source": [
    "# To find the minimum element from tuple1\n",
    "print(min(tuple1)) # Output: 10"
   ]
  },
  {
   "cell_type": "code",
   "execution_count": 10,
   "id": "e4d69d84",
   "metadata": {},
   "outputs": [
    {
     "name": "stdout",
     "output_type": "stream",
     "text": [
      "150\n"
     ]
    }
   ],
   "source": [
    "# To add all elements in tuple1\n",
    "sum_of_elements = sum(tuple1)\n",
    "print(sum_of_elements) # Output: 150"
   ]
  },
  {
   "cell_type": "code",
   "execution_count": 11,
   "id": "b6c4ff96",
   "metadata": {},
   "outputs": [
    {
     "name": "stdout",
     "output_type": "stream",
     "text": [
      "(10, 50, 20, 40, 30, 10, 50, 20, 40, 30, 10, 50, 20, 40, 30)\n"
     ]
    }
   ],
   "source": [
    "# To display the same tuple1 multiple times\n",
    "multiple_times = tuple1 * 3\n",
    "print(multiple_times) # Output: (10, 50, 20, 40, 30, 10, 50, 20, 40, 30, 10, 50, 20, 40, 30)"
   ]
  },
  {
   "cell_type": "code",
   "execution_count": null,
   "id": "00dfda4a",
   "metadata": {},
   "outputs": [],
   "source": []
  },
  {
   "cell_type": "code",
   "execution_count": null,
   "id": "094f93e8",
   "metadata": {},
   "outputs": [],
   "source": []
  },
  {
   "cell_type": "markdown",
   "id": "73314832",
   "metadata": {},
   "source": []
  },
  {
   "cell_type": "markdown",
   "id": "a35edae8",
   "metadata": {},
   "source": [
    "# 5 write a python program:\n",
    "#To calculate the length of a string\n",
    "#To reverse words in a string\n",
    "#To display the same string multiple times\n",
    "#To concatenate two strings\n",
    "#str1=“ south” ,using string slicing to display “india”"
   ]
  },
  {
   "cell_type": "code",
   "execution_count": 1,
   "id": "5a61bfdc",
   "metadata": {},
   "outputs": [
    {
     "name": "stdout",
     "output_type": "stream",
     "text": [
      "Length of the string is: 11\n"
     ]
    }
   ],
   "source": [
    "# To calculate the length of a string\n",
    "string = \"Hello World\"\n",
    "length = len(string)\n",
    "print(\"Length of the string is:\", length)"
   ]
  },
  {
   "cell_type": "code",
   "execution_count": 2,
   "id": "e8f27ad3",
   "metadata": {},
   "outputs": [
    {
     "name": "stdout",
     "output_type": "stream",
     "text": [
      "Reversed string is: World Hello\n"
     ]
    }
   ],
   "source": [
    "# To reverse words in a string\n",
    "string = \"Hello World\"\n",
    "words = string.split()\n",
    "reversed_string = ' '.join(reversed(words))\n",
    "print(\"Reversed string is:\", reversed_string)"
   ]
  },
  {
   "cell_type": "code",
   "execution_count": 3,
   "id": "fb6d4b07",
   "metadata": {},
   "outputs": [
    {
     "name": "stdout",
     "output_type": "stream",
     "text": [
      "Repeated string is: HelloHelloHello\n"
     ]
    }
   ],
   "source": [
    "# To display the same string multiple times\n",
    "string = \"Hello\"\n",
    "n = 3\n",
    "repeated_string = string * n\n",
    "print(\"Repeated string is:\", repeated_string)"
   ]
  },
  {
   "cell_type": "code",
   "execution_count": 4,
   "id": "bb0cdaea",
   "metadata": {},
   "outputs": [
    {
     "name": "stdout",
     "output_type": "stream",
     "text": [
      "Concatenated string is: Hello World\n"
     ]
    }
   ],
   "source": [
    "# To concatenate two strings\n",
    "str1 = \"Hello\"\n",
    "str2 = \"World\"\n",
    "concatenated_string = str1 + \" \" + str2\n",
    "print(\"Concatenated string is:\", concatenated_string)"
   ]
  },
  {
   "cell_type": "code",
   "execution_count": 5,
   "id": "10a44ba0",
   "metadata": {},
   "outputs": [
    {
     "name": "stdout",
     "output_type": "stream",
     "text": [
      "Substring is: uth\n"
     ]
    }
   ],
   "source": [
    "# Using string slicing to display \"india\" from str1 = \"south\"\n",
    "str1 = \"south\"\n",
    "substring = str1[2:]\n",
    "print(\"Substring is:\", substring)"
   ]
  },
  {
   "cell_type": "markdown",
   "id": "ca5bcb1f",
   "metadata": {},
   "source": [
    "# 6 Perform the following:\n",
    "#Creating the dictionary.\n",
    "#Accessing value and keys in the dictionary.\n",
    "#Update the dictionary using a function\n",
    "#Clear and delete the dictionary value"
   ]
  },
  {
   "cell_type": "code",
   "execution_count": 21,
   "id": "f9f48a9a",
   "metadata": {},
   "outputs": [],
   "source": [
    "# Creating the dictionary\n",
    "dictionary1 = {'name': 'Raushan', 'age': 25, 'city': 'kolkata'}"
   ]
  },
  {
   "cell_type": "code",
   "execution_count": 22,
   "id": "537438b3",
   "metadata": {},
   "outputs": [
    {
     "name": "stdout",
     "output_type": "stream",
     "text": [
      "Raushan\n",
      "25\n",
      "dict_keys(['name', 'age', 'city'])\n",
      "dict_values(['Raushan', 25, 'kolkata'])\n"
     ]
    }
   ],
   "source": [
    "# Accessing values and keys in the dictionary\n",
    "print(dictionary1['name']) # Output: Raushan\n",
    "print(dictionary1['age']) # Output: 25\n",
    "print(dictionary1.keys()) # Output: dict_keys(['name', 'age', 'city'])\n",
    "print(dictionary1.values()) # Output: dict_values(['Raushan', 25, 'kolkata'])"
   ]
  },
  {
   "cell_type": "code",
   "execution_count": 23,
   "id": "d3a51acb",
   "metadata": {},
   "outputs": [
    {
     "name": "stdout",
     "output_type": "stream",
     "text": [
      "{'name': 'Raushan', 'age': 27, 'city': 'kolkata', 'country': 'USA'}\n"
     ]
    }
   ],
   "source": [
    "# Update the dictionary using a function\n",
    "dictionary1.update({'age': 27, 'country': 'USA'})\n",
    "print(dictionary1) # Output: {'name': 'Raushan', 'age': 27, 'city': 'New York', 'country': 'USA'}"
   ]
  },
  {
   "cell_type": "code",
   "execution_count": 24,
   "id": "8d41e281",
   "metadata": {},
   "outputs": [
    {
     "name": "stdout",
     "output_type": "stream",
     "text": [
      "{}\n"
     ]
    }
   ],
   "source": [
    "# Clear and delete the dictionary value\n",
    "dictionary1.clear()\n",
    "print(dictionary1) # Output: {}\n",
    "\n",
    "del dictionary1\n",
    "#print(dictionary1) # Output: NameError: name 'dictionary1' is not defined\n"
   ]
  },
  {
   "cell_type": "code",
   "execution_count": 45,
   "id": "6d665be0",
   "metadata": {},
   "outputs": [
    {
     "data": {
      "text/plain": [
       "[1, 2, 3, 4]"
      ]
     },
     "execution_count": 45,
     "metadata": {},
     "output_type": "execute_result"
    }
   ],
   "source": [
    "# 7 Python program to insert a number to any position in a lists.\n",
    "\n",
    "list=[1, 2, 3, 4,]\n",
    "list\n"
   ]
  },
  {
   "cell_type": "code",
   "execution_count": 25,
   "id": "7d9d4a48",
   "metadata": {},
   "outputs": [
    {
     "name": "stdout",
     "output_type": "stream",
     "text": [
      "['apple', 'banana', 'grape']\n",
      "['apple', 'grape']\n"
     ]
    }
   ],
   "source": [
    "#8 Python program to delete an element from a list by index\n",
    "\n",
    "# Creating a list\n",
    "list1 = ['apple', 'banana', 'orange', 'grape']\n",
    "\n",
    "# Deleting an element by index\n",
    "del list1[2]\n",
    "print(list1) # Output: ['apple', 'banana', 'grape']\n",
    "\n",
    "# Deleting an element by value\n",
    "list1.remove('banana')\n",
    "print(list1) # Output: ['apple', 'grape']"
   ]
  },
  {
   "cell_type": "code",
   "execution_count": 27,
   "id": "b3bed161",
   "metadata": {},
   "outputs": [
    {
     "name": "stdout",
     "output_type": "stream",
     "text": [
      "1\n",
      "2\n",
      "3\n",
      "4\n",
      "5\n",
      "6\n",
      "7\n",
      "8\n",
      "9\n",
      "10\n",
      "11\n",
      "12\n",
      "13\n",
      "14\n",
      "15\n",
      "16\n",
      "17\n",
      "18\n",
      "19\n",
      "20\n",
      "21\n",
      "22\n",
      "23\n",
      "24\n",
      "25\n",
      "26\n",
      "27\n",
      "28\n",
      "29\n",
      "30\n",
      "31\n",
      "32\n",
      "33\n",
      "34\n",
      "35\n",
      "36\n",
      "37\n",
      "38\n",
      "39\n",
      "40\n",
      "41\n",
      "42\n",
      "43\n",
      "44\n",
      "45\n",
      "46\n",
      "47\n",
      "48\n",
      "49\n",
      "50\n",
      "51\n",
      "52\n",
      "53\n",
      "54\n",
      "55\n",
      "56\n",
      "57\n",
      "58\n",
      "59\n",
      "60\n",
      "61\n",
      "62\n",
      "63\n",
      "64\n",
      "65\n",
      "66\n",
      "67\n",
      "68\n",
      "69\n",
      "70\n",
      "71\n",
      "72\n",
      "73\n",
      "74\n",
      "75\n",
      "76\n",
      "77\n",
      "78\n",
      "79\n",
      "80\n",
      "81\n",
      "82\n",
      "83\n",
      "84\n",
      "85\n",
      "86\n",
      "87\n",
      "88\n",
      "89\n",
      "90\n",
      "91\n",
      "92\n",
      "93\n",
      "94\n",
      "95\n",
      "96\n",
      "97\n",
      "98\n",
      "99\n",
      "100\n"
     ]
    }
   ],
   "source": [
    "#9 Write a program to display a number from 1 to 100\n",
    "for i in range(1, 101):\n",
    "    print(i)"
   ]
  },
  {
   "cell_type": "code",
   "execution_count": 28,
   "id": "fad97481",
   "metadata": {},
   "outputs": [
    {
     "name": "stdout",
     "output_type": "stream",
     "text": [
      "15\n"
     ]
    }
   ],
   "source": [
    "#10 Write a python program to find the sum of all items in a tuple\n",
    "\n",
    "my_tuple = (1, 2, 3, 4, 5)\n",
    "total = sum(my_tuple)\n",
    "print(total)"
   ]
  },
  {
   "cell_type": "markdown",
   "id": "8b488c56",
   "metadata": {},
   "source": [
    "# 11 Create a dictionary containing three lambda functions a square cube and square roots.\n",
    "1)E.g. dict = {‘square’:Function for squaring, ‘cube’: ‘squareroot’: Function for square root}\n",
    "2)Pass the values (input for the user) to the function in the dictionary respectively.\n",
    "3)Then add the outputs of each function and print it."
   ]
  },
  {
   "cell_type": "code",
   "execution_count": 29,
   "id": "faf928df",
   "metadata": {},
   "outputs": [],
   "source": [
    "my_dict = {\n",
    "    'square': lambda x: x**2,\n",
    "    'cube': lambda x: x**3,\n",
    "    'squareroot': lambda x: x**0.5\n",
    "}"
   ]
  },
  {
   "cell_type": "code",
   "execution_count": 30,
   "id": "360c9ba9",
   "metadata": {},
   "outputs": [
    {
     "name": "stdout",
     "output_type": "stream",
     "text": [
      "Enter a number: 16\n"
     ]
    }
   ],
   "source": [
    "# Get input from the user\n",
    "num = int(input(\"Enter a number: \"))"
   ]
  },
  {
   "cell_type": "code",
   "execution_count": 31,
   "id": "565150e7",
   "metadata": {},
   "outputs": [],
   "source": [
    "# Pass the input to each function in the dictionary\n",
    "square_result = my_dict['square'](num)\n",
    "cube_result = my_dict['cube'](num)\n",
    "squareroot_result = my_dict['squareroot'](num)"
   ]
  },
  {
   "cell_type": "code",
   "execution_count": 32,
   "id": "750bb4f3",
   "metadata": {},
   "outputs": [
    {
     "name": "stdout",
     "output_type": "stream",
     "text": [
      "4356.0\n"
     ]
    }
   ],
   "source": [
    "# Add the outputs of each function\n",
    "total = square_result + cube_result + squareroot_result\n",
    "\n",
    "print(total)\n"
   ]
  },
  {
   "cell_type": "markdown",
   "id": "b6a128a1",
   "metadata": {},
   "source": [
    "# 12 A List of words is given find the word from the list that have their second character in uppercase.\n",
    "ls = [‘hello’ , ‘Dear’, ‘hOw’ , ‘ARe’ , ‘You’]"
   ]
  },
  {
   "cell_type": "code",
   "execution_count": 43,
   "id": "73ca4a6c",
   "metadata": {},
   "outputs": [
    {
     "name": "stdout",
     "output_type": "stream",
     "text": [
      "['hOw', 'ARe']\n"
     ]
    }
   ],
   "source": [
    "ls = ['hello', 'Dear', 'hOw', 'ARe', 'You']\n",
    "\n",
    "result = [word for word in ls if word[1].isupper()]\n",
    "\n",
    "print(result)"
   ]
  },
  {
   "cell_type": "markdown",
   "id": "171d4634",
   "metadata": {},
   "source": [
    "# 13. A dictionary of names and their weights on earth is given. find how much they will weight on the moon.( use map and lambda functions formula )Formula : wMoon = (wEarth * GMoon)/GEarth \n",
    "1)   #weight of people in kg\n",
    "       •  WeightOnEarth = {‘john’ :45, ‘shelly’ :65, ‘marry’ :35}\n",
    "2)  #Gravitational Force on the Moon: 1.622m/s2\n",
    "        •  GMoon = 1.622\n",
    "3)  #Gravitational Force on the Earth: 9.82m/s2\n",
    "        •  GEarth = 9.81"
   ]
  },
  {
   "cell_type": "code",
   "execution_count": 44,
   "id": "626e4f7a",
   "metadata": {},
   "outputs": [
    {
     "name": "stdout",
     "output_type": "stream",
     "text": [
      "[('john', 7.440366972477065), ('shelly', 10.747196738022426), ('marry', 5.786952089704383)]\n"
     ]
    }
   ],
   "source": [
    "WeightOnEarth = {'john': 45, 'shelly': 65, 'marry': 35}\n",
    "GMoon = 1.622\n",
    "GEarth = 9.81\n",
    "\n",
    "WeightOnMoon = list(map(lambda x: (x[0], (x[1] * GMoon) / GEarth), WeightOnEarth.items()))\n",
    "\n",
    "print(WeightOnMoon)"
   ]
  },
  {
   "cell_type": "markdown",
   "id": "0fb5ac52",
   "metadata": {},
   "source": [
    "# Control structures"
   ]
  },
  {
   "cell_type": "code",
   "execution_count": 25,
   "id": "e5d3c6e7",
   "metadata": {},
   "outputs": [
    {
     "name": "stdout",
     "output_type": "stream",
     "text": [
      "2 3 5 7 11 13 17 19 23 29 31 37 41 43 47 53 59 61 67 71 73 79 83 89 97 "
     ]
    }
   ],
   "source": [
    "\n",
    "#1 Write a python program to find the N prime numbers.\n",
    "\n",
    "def isPrime(n):\n",
    "\n",
    "  if(n==1 or n==0):    #since 0 and 1 is not prime return false.\n",
    "    return False\n",
    "\n",
    "  for i in range(2,n):    #Run a loop from 2 to n-1\n",
    "    #if the number is divisible by i, then n is not a prime number.\n",
    "    if(n%i==0):\n",
    "      return False\n",
    "\n",
    "  #otherwise, n is prime number.\n",
    "  return True\n",
    "\n",
    "\n",
    "N = 100;\n",
    "\n",
    "for i in range(1,N+1):   #check for every number from 1 to N\n",
    "  #check if current number is prime\n",
    "  if(isPrime(i)):\n",
    "    print(i,end=\" \")"
   ]
  },
  {
   "cell_type": "code",
   "execution_count": 15,
   "id": "47f1e433",
   "metadata": {},
   "outputs": [
    {
     "name": "stdout",
     "output_type": "stream",
     "text": [
      "Enter Basic Salary: 40000\n",
      "Enter HRA: 2443\n",
      "Enter TA: 1232\n",
      "Enter DA: 300\n",
      "Gross Salary: 43975.0\n",
      "Tax: 4397.5\n",
      "Net Salary: 39577.5\n"
     ]
    }
   ],
   "source": [
    "#2 Write the Python code that calculates the salary of an employee.promt the user to enter the basic salary ,HRA,TA,and DA.Add these components to calculate the gross salary.also,deduct 10% of salary from gross salary to be paid as tax and display gross minus tax as net salary.\n",
    "\n",
    "basic_salary = float(input(\"Enter Basic Salary: \"))\n",
    "hra = float(input(\"Enter HRA: \"))\n",
    "ta = float(input(\"Enter TA: \"))\n",
    "da = float(input(\"Enter DA: \"))\n",
    "\n",
    "\n",
    "gross_salary = basic_salary + hra + ta + da # Calculate the Gross Salary\n",
    "\n",
    "\n",
    "tax = 0.10 * gross_salary # Calculate the Tax (10% of Gross Salary)\n",
    "\n",
    "\n",
    "net_salary = gross_salary - tax # Calculate the Net Salary (Gross Salary - Tax)\n",
    "\n",
    "# Display the results\n",
    "print(f\"Gross Salary: {gross_salary}\")\n",
    "print(f\"Tax: {tax}\")\n",
    "print(f\"Net Salary: {net_salary}\")\n",
    "\n"
   ]
  },
  {
   "cell_type": "code",
   "execution_count": 1,
   "id": "9767b5de",
   "metadata": {},
   "outputs": [
    {
     "name": "stdout",
     "output_type": "stream",
     "text": [
      "Enter a string to search for: cherry\n",
      "The string 'cherry' was found in the list.\n"
     ]
    }
   ],
   "source": [
    "#3 write a python program to search for a string in the given list.\n",
    "\n",
    "list = ['apple', 'banana', 'cherry', 'mango']\n",
    "\n",
    "string = input(\"Enter a string to search for: \") #string to search for\n",
    "\n",
    "\n",
    "found = False # Initialize a flag to check if the string is found\n",
    "\n",
    "\n",
    "for item in list:     # Iterate through the list to search for the string\n",
    "    if item == string:\n",
    "        found = True\n",
    "        break  # Stop searching once the string is found\n",
    "\n",
    "# Check if the string was found and print the result\n",
    "if found:\n",
    "    print(f\"The string '{string}' was found in the list.\")\n",
    "else:\n",
    "    print(f\"The string '{string}' was not found in the list.\")\n",
    "\n"
   ]
  },
  {
   "cell_type": "code",
   "execution_count": 2,
   "id": "c2388381",
   "metadata": {},
   "outputs": [
    {
     "name": "stdout",
     "output_type": "stream",
     "text": [
      "Enter a string: 5\n",
      "Uppercase letters: 0\n",
      "Lowercase letters: 0\n"
     ]
    }
   ],
   "source": [
    "#4 write a python function that accept a string and calculate the number of upper-case letters and lower-case letters\n",
    "\n",
    "def count_letters(string):\n",
    "    uppercase_count = 0\n",
    "    lowercase_count = 0\n",
    "\n",
    "    for char in string:\n",
    "        if char.isupper():\n",
    "            uppercase_count += 1\n",
    "        elif char.islower():\n",
    "            lowercase_count += 1\n",
    "\n",
    "    return uppercase_count, lowercase_count\n",
    "\n",
    "input_string = input(\"Enter a string: \")\n",
    "\n",
    "uppercase, lowercase = count_letters(input_string)\n",
    "\n",
    "print(f\"Uppercase letters: {uppercase}\")\n",
    "print(f\"Lowercase letters: {lowercase}\")\n"
   ]
  },
  {
   "cell_type": "code",
   "execution_count": 3,
   "id": "df361062",
   "metadata": {},
   "outputs": [
    {
     "name": "stdout",
     "output_type": "stream",
     "text": [
      "Sum of even numbers between 12 and 37: 312\n",
      "Sum of odd numbers between 12 and 37: 325\n"
     ]
    }
   ],
   "source": [
    "#5 write a program to display the sum of odd numbers and even numbers that fall between 12 and 37\n",
    "\n",
    "even = 0\n",
    "odd = 0\n",
    "\n",
    "for num in range(12, 38): # Iterate  numbers from 12 to 37\n",
    "    if num % 2 == 0:\n",
    "        even += num  # Add even number to even\n",
    "    else:\n",
    "        odd += num   # Add odd number to odd\n",
    "\n",
    "# Display the sums\n",
    "print(f\"Sum of even numbers between 12 and 37: {even}\")\n",
    "print(f\"Sum of odd numbers between 12 and 37: {odd}\")\n"
   ]
  },
  {
   "cell_type": "code",
   "execution_count": 4,
   "id": "a41705fe",
   "metadata": {},
   "outputs": [
    {
     "name": "stdout",
     "output_type": "stream",
     "text": [
      "Enter a number: 5\n",
      "Multiplication table for {num}:\n",
      "5 x 1 = 5\n",
      "5 x 2 = 10\n",
      "5 x 3 = 15\n",
      "5 x 4 = 20\n",
      "5 x 5 = 25\n",
      "5 x 6 = 30\n",
      "5 x 7 = 35\n",
      "5 x 8 = 40\n",
      "5 x 9 = 45\n",
      "5 x 10 = 50\n"
     ]
    }
   ],
   "source": [
    "#6 write a python program to print the table of any number.\n",
    "\n",
    "num = int(input(\"Enter a number: \"))\n",
    "\n",
    "table_range = range(1, 11) # Set the range for the multiplication table (1 to 10)\n",
    "\n",
    "print(\"Multiplication table for {num}:\")  # Print the multiplication table\n",
    "\n",
    "for i in table_range:\n",
    "    result = num * i\n",
    "    print(f\"{num} x {i} = {result}\")\n"
   ]
  },
  {
   "cell_type": "code",
   "execution_count": 5,
   "id": "d516300a",
   "metadata": {},
   "outputs": [
    {
     "name": "stdout",
     "output_type": "stream",
     "text": [
      "The sum of the first 10 prime numbers is: 129\n"
     ]
    }
   ],
   "source": [
    "#7 write a python program to sum of the first 10 prime numbers\n",
    "\n",
    "def is_prime(num):\n",
    "    if num <= 1:\n",
    "        return False\n",
    "    if num <= 3:\n",
    "        return True\n",
    "    if num % 2 == 0 or num % 3 == 0:\n",
    "        return False\n",
    "    i = 5\n",
    "    while i * i <= num:\n",
    "        if num % i == 0 or num % (i + 2) == 0:\n",
    "            return False\n",
    "        i += 6\n",
    "    return True\n",
    "\n",
    "def sum_first_10_primes():\n",
    "    primes = []\n",
    "    num = 2\n",
    "    while len(primes) < 10:\n",
    "        if is_prime(num):\n",
    "            primes.append(num)\n",
    "        num += 1\n",
    "    return sum(primes)\n",
    "\n",
    "result = sum_first_10_primes()\n",
    "print(f\"The sum of the first 10 prime numbers is: {result}\")\n"
   ]
  },
  {
   "cell_type": "code",
   "execution_count": 6,
   "id": "6c16f6e7",
   "metadata": {},
   "outputs": [
    {
     "name": "stdout",
     "output_type": "stream",
     "text": [
      "Enter the first number: 9\n",
      "Enter the second number: 11\n",
      "Enter an operator (+, -, *, /): *\n",
      "Result: 99.0\n"
     ]
    }
   ],
   "source": [
    "#8 write a python program to implement arithmetic operations using nested if statement.\n",
    "\n",
    "num1 = float(input(\"Enter the first number: \"))\n",
    "num2 = float(input(\"Enter the second number: \"))\n",
    "operator = input(\"Enter an operator (+, -, *, /): \")\n",
    "\n",
    "# Perform the arithmetic operation based on the operator\n",
    "if operator == '+':\n",
    "    result = num1 + num2\n",
    "elif operator == '-':\n",
    "    result = num1 - num2\n",
    "elif operator == '*':\n",
    "    result = num1 * num2\n",
    "elif operator == '/':\n",
    "    if num2 != 0:\n",
    "        result = num1 / num2\n",
    "    else:\n",
    "        result = \"Division by zero is not allowed.\"\n",
    "else:\n",
    "    result = \"Invalid operator.\"\n",
    "\n",
    "# Display the result\n",
    "print(f\"Result: {result}\")\n",
    "\n"
   ]
  },
  {
   "cell_type": "code",
   "execution_count": 7,
   "id": "a386eca0",
   "metadata": {},
   "outputs": [
    {
     "name": "stdout",
     "output_type": "stream",
     "text": [
      "Enter the Temperature in Celsius :\n",
      "27\n",
      "Temperature in Fahrenheit : 80.6\n"
     ]
    }
   ],
   "source": [
    "#9 write a python program to take the temperature in celsius and convert it to a fahrenheit\n",
    "\n",
    "celsius = int(input(\"Enter the Temperature in Celsius :\\n\"))\n",
    "fahrenheit = (1.8 * celsius) + 32\n",
    "print(\"Temperature in Fahrenheit :\", fahrenheit)\n"
   ]
  },
  {
   "cell_type": "code",
   "execution_count": 8,
   "id": "cc1f0337",
   "metadata": {},
   "outputs": [
    {
     "name": "stdout",
     "output_type": "stream",
     "text": [
      "(75, -5)\n"
     ]
    }
   ],
   "source": [
    "#10 write a python program to find a maximum and minimum number in a list without using an inbuilt function\n",
    "\n",
    "def max_min(data):\n",
    "  l = data[0]\n",
    "  s = data[0]\n",
    "  for num in data:\n",
    "    if num> l:\n",
    "      l = num\n",
    "    elif num< s:\n",
    "        s = num\n",
    "  return l, s\n",
    "\n",
    "print(max_min([0, 10, 15, 40, -5, 42, 17, 28, 75]))\n"
   ]
  },
  {
   "cell_type": "code",
   "execution_count": 9,
   "id": "5439c9f7",
   "metadata": {},
   "outputs": [
    {
     "name": "stdout",
     "output_type": "stream",
     "text": [
      "Number of seconds in a 30-day month: 2592000\n"
     ]
    }
   ],
   "source": [
    "#11 write a program i python to print out of the number of seconds in 30 days month 30 days ,24 hours in a day , 60 minutes per day , 60 seconds in a minute.\n",
    "\n",
    "days_per_month = 30\n",
    "hours_per_day = 24\n",
    "minutes_per_hour = 60\n",
    "seconds_per_minute = 60\n",
    "\n",
    "\n",
    "total_seconds = days_per_month * hours_per_day * minutes_per_hour * seconds_per_minute # Calculate the total number of seconds in a 30-day month\n",
    "\n",
    "print(f\"Number of seconds in a 30-day month: {total_seconds}\")\n"
   ]
  },
  {
   "cell_type": "code",
   "execution_count": 10,
   "id": "9b754131",
   "metadata": {},
   "outputs": [
    {
     "name": "stdout",
     "output_type": "stream",
     "text": [
      "Number of seconds in a year :  31536000\n"
     ]
    }
   ],
   "source": [
    "#12 write a program in python to print out the number of seconds in year\n",
    "\n",
    "days=365\n",
    "hours=24\n",
    "minutes=60\n",
    "seconds=60\n",
    "print(\"Number of seconds in a year : \",days*hours*minutes*seconds)\n"
   ]
  },
  {
   "cell_type": "code",
   "execution_count": 11,
   "id": "020b6fae",
   "metadata": {},
   "outputs": [
    {
     "name": "stdout",
     "output_type": "stream",
     "text": [
      "it will take 2.76 hours to travel from london to glasgow\n"
     ]
    }
   ],
   "source": [
    "#13A high speed train can travel at an average speed of 150 mph , how long will take a train traveling at this speed to travel from london to glasgow which is 414 miles away\n",
    "\n",
    "distance = 414\n",
    "speed = 150\n",
    "time = (distance/speed)\n",
    "print(\"it will take\",time,\"hours to travel from london to glasgow\")\n",
    "\n"
   ]
  },
  {
   "cell_type": "code",
   "execution_count": 12,
   "id": "5cfdba90",
   "metadata": {},
   "outputs": [
    {
     "name": "stdout",
     "output_type": "stream",
     "text": [
      "Total hours spent on school from year 7 to year 11: 5760 hours\n"
     ]
    }
   ],
   "source": [
    "#14 write a python program that defines a variable called days in each school year and assign 192 to the variable. the program should then print out the total hours that you spend in school from year 7 to year 11, if each day you spend 6 hours in school days in each school year =192\n",
    "\n",
    "days_in_each_school_year = 192\n",
    "\n",
    "# Define the range of school years (from year 7 to year 11)\n",
    "start_year = 7\n",
    "end_year = 11\n",
    "\n",
    "\n",
    "total_hours = (end_year - start_year + 1) * days_in_each_school_year * 6  # Calculate the total hours spent on school\n",
    "\n",
    "# Print the total hours spent on school\n",
    "print(f\"Total hours spent on school from year {start_year} to year {end_year}: {total_hours} hours\")\n",
    "\n",
    "\n"
   ]
  },
  {
   "cell_type": "code",
   "execution_count": 13,
   "id": "d729bfb0",
   "metadata": {},
   "outputs": [
    {
     "name": "stdout",
     "output_type": "stream",
     "text": [
      "Enter Ram's age: 23\n",
      "Enter Shyam's age: 27\n",
      "Enter Khan's age: 30\n",
      "The eldest among Ram, Shyam, and Khan is 30 years old.\n",
      "The youngest among Ram, Shyam, and Khan is 23 years old.\n"
     ]
    }
   ],
   "source": [
    "#15 if the age of Ram ,sam and khan are input through the keyboard,write a python program to determine the eldest and youngest of the three .\n",
    "\n",
    "ram_age = int(input(\"Enter Ram's age: \"))\n",
    "shyam_age = int(input(\"Enter Shyam's age: \"))\n",
    "khan_age = int(input(\"Enter Khan's age: \"))\n",
    "\n",
    "eldest = max(ram_age, shyam_age, khan_age)\n",
    "youngest = min(ram_age, shyam_age, khan_age)\n",
    "\n",
    "print(f\"The eldest among Ram, Shyam, and Khan is {eldest} years old.\")\n",
    "print(f\"The youngest among Ram, Shyam, and Khan is {youngest} years old.\")\n"
   ]
  },
  {
   "cell_type": "code",
   "execution_count": 14,
   "id": "dc5060f4",
   "metadata": {},
   "outputs": [
    {
     "name": "stdout",
     "output_type": "stream",
     "text": [
      "[4, 5, 6, 1, 2, 3]\n"
     ]
    }
   ],
   "source": [
    "#16 write a python program to rotate a list by right n times with and without slicing technique\n",
    "\n",
    "def rightRotate(lists, num):\n",
    "    output_list = []\n",
    "\n",
    "\n",
    "    for item in range(len(lists) - num, len(lists)): # Will add values from n to the new list\n",
    "        output_list.append(lists[item])\n",
    "\n",
    "    # Will add the values before\n",
    "    # n to the end of new list\n",
    "    for item in range(0, len(lists) - num):\n",
    "        output_list.append(lists[item])\n",
    "\n",
    "    return output_list\n",
    "\n",
    "rotate_num = 3\n",
    "list_1 = [1, 2, 3,4,5,6]\n",
    "\n",
    "print(rightRotate(list_1, rotate_num))\n"
   ]
  },
  {
   "cell_type": "markdown",
   "id": "179d1db5",
   "metadata": {},
   "source": [
    "# 17 Python Program to print the pattern given below:\n",
    "1\n",
    "1 1\n",
    "1 2 1\n",
    "1 3 3 1\n",
    "1 4 6 4 1\n",
    "1 5 10 10 5 1\n",
    "1 6 15 20 15 6 1\n",
    "    "
   ]
  },
  {
   "cell_type": "code",
   "execution_count": 50,
   "id": "65ba9edc",
   "metadata": {},
   "outputs": [
    {
     "name": "stdout",
     "output_type": "stream",
     "text": [
      "Enter the number of rows: 7\n",
      "1 \n",
      "1 1 \n",
      "1 2 1 \n",
      "1 3 3 1 \n",
      "1 4 6 4 1 \n",
      "1 5 10 10 5 1 \n",
      "1 6 15 20 15 6 1 \n"
     ]
    }
   ],
   "source": [
    "rows = int(input(\"Enter the number of rows: \"))\n",
    "\n",
    "for i in range(rows):\n",
    "    num = 1\n",
    "    for j in range(i + 1):\n",
    "        print(num, end=\" \")\n",
    "        num = num * (i - j) // (j + 1)\n",
    "    print()"
   ]
  },
  {
   "cell_type": "code",
   "execution_count": null,
   "id": "3189c6d8",
   "metadata": {},
   "outputs": [],
   "source": [
    "\n",
    "*\n",
    "* *\n",
    "* * *\n",
    "* * * *\n",
    "* * * * *"
   ]
  },
  {
   "cell_type": "code",
   "execution_count": 51,
   "id": "dbfd7fde",
   "metadata": {},
   "outputs": [
    {
     "name": "stdout",
     "output_type": "stream",
     "text": [
      "Enter the number of rows: 5\n",
      "* \n",
      "* * \n",
      "* * * \n",
      "* * * * \n",
      "* * * * * \n"
     ]
    }
   ],
   "source": [
    "rows = int(input(\"Enter the number of rows: \"))\n",
    "\n",
    "for i in range(rows):\n",
    "    for j in range(i + 1):\n",
    "        print(\"*\", end=\" \")\n",
    "    print()\n"
   ]
  },
  {
   "cell_type": "code",
   "execution_count": null,
   "id": "064f4e0b",
   "metadata": {},
   "outputs": [],
   "source": [
    "                                  *\n",
    "                                 * *\n",
    "                                * * *\n",
    "                               * * * *\n",
    "                              * * * * *\n",
    "                             * * * * * *\n",
    "                            * * * * * * *"
   ]
  },
  {
   "cell_type": "code",
   "execution_count": 52,
   "id": "3d2a5603",
   "metadata": {},
   "outputs": [
    {
     "name": "stdout",
     "output_type": "stream",
     "text": [
      "    * \n",
      "   * * \n",
      "  * * * \n",
      " * * * * \n",
      "* * * * * \n"
     ]
    }
   ],
   "source": [
    "for i in range(rows):\n",
    "    for j in range(rows - i - 1):\n",
    "        print(\" \", end=\"\")\n",
    "    for k in range(i + 1):\n",
    "        print(\"* \", end=\"\")\n",
    "    print()\n"
   ]
  },
  {
   "cell_type": "code",
   "execution_count": null,
   "id": "de50faac",
   "metadata": {},
   "outputs": [],
   "source": [
    "       P\n",
    "       Py\n",
    "       Pyt\n",
    "       Pyth\n",
    "       Pytho\n",
    "       Python"
   ]
  },
  {
   "cell_type": "code",
   "execution_count": 53,
   "id": "ef542af6",
   "metadata": {},
   "outputs": [
    {
     "name": "stdout",
     "output_type": "stream",
     "text": [
      "     P\n",
      "    Py\n",
      "   Pyt\n",
      "  Pyth\n",
      " Pytho\n",
      "Python\n"
     ]
    }
   ],
   "source": [
    "word = \"Python\"\n",
    "\n",
    "for i in range(len(word)):\n",
    "    for j in range(len(word) - i - 1):\n",
    "        print(\" \", end=\"\")\n",
    "    for k in range(i + 1):\n",
    "        print(word[k], end=\"\")\n",
    "    print()\n"
   ]
  },
  {
   "cell_type": "code",
   "execution_count": null,
   "id": "30e898ae",
   "metadata": {},
   "outputs": [],
   "source": []
  },
  {
   "cell_type": "code",
   "execution_count": null,
   "id": "77ac9ab3",
   "metadata": {},
   "outputs": [],
   "source": []
  }
 ],
 "metadata": {
  "kernelspec": {
   "display_name": "Python 3 (ipykernel)",
   "language": "python",
   "name": "python3"
  },
  "language_info": {
   "codemirror_mode": {
    "name": "ipython",
    "version": 3
   },
   "file_extension": ".py",
   "mimetype": "text/x-python",
   "name": "python",
   "nbconvert_exporter": "python",
   "pygments_lexer": "ipython3",
   "version": "3.11.4"
  }
 },
 "nbformat": 4,
 "nbformat_minor": 5
}
